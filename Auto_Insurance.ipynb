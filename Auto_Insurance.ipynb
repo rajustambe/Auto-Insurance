{
  "nbformat": 4,
  "nbformat_minor": 0,
  "metadata": {
    "colab": {
      "name": "Auto_Insurance.ipynb",
      "provenance": [],
      "collapsed_sections": [],
      "toc_visible": true
    },
    "kernelspec": {
      "name": "python3",
      "display_name": "Python 3"
    }
  },
  "cells": [
    {
      "cell_type": "markdown",
      "metadata": {
        "id": "gyRdGHqV2myv"
      },
      "source": [
        "# **Introduction**\n",
        "\n",
        "This notebook aims at getting a good insight in the data for the PorteSeguro competition. Besides that, it gives some tips and tricks to prepare your data for modeling. The notebook consists of the following main sections:\n",
        "\n",
        "Visual inspection of your data\n",
        "\n",
        "1.   Visual inspection of your data\n",
        "2.   Defining the metadata\n",
        "3.   Descriptive statistics\n",
        "4.   Handling imbalanced classes\n",
        "5.   Data quality checks\n",
        "6.   Exploratory data visualization\n",
        "7.   Feature engineering\n",
        "8.   Feature selection\n",
        "9.   Feature scaling\n",
        "\n"
      ]
    },
    {
      "cell_type": "code",
      "metadata": {
        "id": "BMcQt6VMDxCI"
      },
      "source": [
        "import pandas as pd\n",
        "import numpy as np\n",
        "import matplotlib.pyplot as plt\n",
        "import seaborn as sns\n",
        "sns.set(style=\"whitegrid\", color_codes=True)\n",
        "sns.set(font_scale=1)\n",
        "from scipy import stats"
      ],
      "execution_count": 1,
      "outputs": []
    },
    {
      "cell_type": "code",
      "metadata": {
        "id": "bQxFe1MbdXNp"
      },
      "source": [
        "train = pd.read_csv(\"sample_data/train.csv\")"
      ],
      "execution_count": 2,
      "outputs": []
    },
    {
      "cell_type": "markdown",
      "metadata": {
        "id": "FN2d3jMZHibS"
      },
      "source": [
        "# **Data at first sight**\n",
        "\n",
        "Here is an excerpt of the the data description for the competition:\n",
        "\n",
        "1. Features that belong to similar groupings are tagged as such in the feature names (e.g., ind, reg, car, calc).\n",
        "2. Feature names include the postfix bin to indicate binary features and cat to indicate categorical features.\n",
        "3. Features without these designations are either continuous or ordinal.\n",
        "Values of -1 indicate that the feature was missing from the observation.\n",
        "4. The target columns signifies whether or not a claim was filed for that policy holder.\n"
      ]
    },
    {
      "cell_type": "code",
      "metadata": {
        "id": "8i85hLigpxGJ",
        "outputId": "da8a9b32-70df-4fdb-dea0-10b351f5540e",
        "colab": {
          "base_uri": "https://localhost:8080/",
          "height": 224
        }
      },
      "source": [
        "train.head(5)"
      ],
      "execution_count": 3,
      "outputs": [
        {
          "output_type": "execute_result",
          "data": {
            "text/html": [
              "<div>\n",
              "<style scoped>\n",
              "    .dataframe tbody tr th:only-of-type {\n",
              "        vertical-align: middle;\n",
              "    }\n",
              "\n",
              "    .dataframe tbody tr th {\n",
              "        vertical-align: top;\n",
              "    }\n",
              "\n",
              "    .dataframe thead th {\n",
              "        text-align: right;\n",
              "    }\n",
              "</style>\n",
              "<table border=\"1\" class=\"dataframe\">\n",
              "  <thead>\n",
              "    <tr style=\"text-align: right;\">\n",
              "      <th></th>\n",
              "      <th>id</th>\n",
              "      <th>target</th>\n",
              "      <th>ps_ind_01</th>\n",
              "      <th>ps_ind_02_cat</th>\n",
              "      <th>ps_ind_03</th>\n",
              "      <th>ps_ind_04_cat</th>\n",
              "      <th>ps_ind_05_cat</th>\n",
              "      <th>ps_ind_06_bin</th>\n",
              "      <th>ps_ind_07_bin</th>\n",
              "      <th>ps_ind_08_bin</th>\n",
              "      <th>ps_ind_09_bin</th>\n",
              "      <th>ps_ind_10_bin</th>\n",
              "      <th>ps_ind_11_bin</th>\n",
              "      <th>ps_ind_12_bin</th>\n",
              "      <th>ps_ind_13_bin</th>\n",
              "      <th>ps_ind_14</th>\n",
              "      <th>ps_ind_15</th>\n",
              "      <th>ps_ind_16_bin</th>\n",
              "      <th>ps_ind_17_bin</th>\n",
              "      <th>ps_ind_18_bin</th>\n",
              "      <th>ps_reg_01</th>\n",
              "      <th>ps_reg_02</th>\n",
              "      <th>ps_reg_03</th>\n",
              "      <th>ps_car_01_cat</th>\n",
              "      <th>ps_car_02_cat</th>\n",
              "      <th>ps_car_03_cat</th>\n",
              "      <th>ps_car_04_cat</th>\n",
              "      <th>ps_car_05_cat</th>\n",
              "      <th>ps_car_06_cat</th>\n",
              "      <th>ps_car_07_cat</th>\n",
              "      <th>ps_car_08_cat</th>\n",
              "      <th>ps_car_09_cat</th>\n",
              "      <th>ps_car_10_cat</th>\n",
              "      <th>ps_car_11_cat</th>\n",
              "      <th>ps_car_11</th>\n",
              "      <th>ps_car_12</th>\n",
              "      <th>ps_car_13</th>\n",
              "      <th>ps_car_14</th>\n",
              "      <th>ps_car_15</th>\n",
              "      <th>ps_calc_01</th>\n",
              "      <th>ps_calc_02</th>\n",
              "      <th>ps_calc_03</th>\n",
              "      <th>ps_calc_04</th>\n",
              "      <th>ps_calc_05</th>\n",
              "      <th>ps_calc_06</th>\n",
              "      <th>ps_calc_07</th>\n",
              "      <th>ps_calc_08</th>\n",
              "      <th>ps_calc_09</th>\n",
              "      <th>ps_calc_10</th>\n",
              "      <th>ps_calc_11</th>\n",
              "      <th>ps_calc_12</th>\n",
              "      <th>ps_calc_13</th>\n",
              "      <th>ps_calc_14</th>\n",
              "      <th>ps_calc_15_bin</th>\n",
              "      <th>ps_calc_16_bin</th>\n",
              "      <th>ps_calc_17_bin</th>\n",
              "      <th>ps_calc_18_bin</th>\n",
              "      <th>ps_calc_19_bin</th>\n",
              "      <th>ps_calc_20_bin</th>\n",
              "    </tr>\n",
              "  </thead>\n",
              "  <tbody>\n",
              "    <tr>\n",
              "      <th>0</th>\n",
              "      <td>7</td>\n",
              "      <td>0</td>\n",
              "      <td>2</td>\n",
              "      <td>2</td>\n",
              "      <td>5</td>\n",
              "      <td>1</td>\n",
              "      <td>0</td>\n",
              "      <td>0</td>\n",
              "      <td>1</td>\n",
              "      <td>0</td>\n",
              "      <td>0</td>\n",
              "      <td>0</td>\n",
              "      <td>0</td>\n",
              "      <td>0</td>\n",
              "      <td>0</td>\n",
              "      <td>0</td>\n",
              "      <td>11</td>\n",
              "      <td>0</td>\n",
              "      <td>1</td>\n",
              "      <td>0</td>\n",
              "      <td>0.7</td>\n",
              "      <td>0.2</td>\n",
              "      <td>0.718070</td>\n",
              "      <td>10</td>\n",
              "      <td>1</td>\n",
              "      <td>-1</td>\n",
              "      <td>0</td>\n",
              "      <td>1</td>\n",
              "      <td>4</td>\n",
              "      <td>1</td>\n",
              "      <td>0</td>\n",
              "      <td>0</td>\n",
              "      <td>1</td>\n",
              "      <td>12</td>\n",
              "      <td>2</td>\n",
              "      <td>0.400000</td>\n",
              "      <td>0.883679</td>\n",
              "      <td>0.370810</td>\n",
              "      <td>3.605551</td>\n",
              "      <td>0.6</td>\n",
              "      <td>0.5</td>\n",
              "      <td>0.2</td>\n",
              "      <td>3</td>\n",
              "      <td>1</td>\n",
              "      <td>10</td>\n",
              "      <td>1</td>\n",
              "      <td>10</td>\n",
              "      <td>1</td>\n",
              "      <td>5</td>\n",
              "      <td>9</td>\n",
              "      <td>1</td>\n",
              "      <td>5</td>\n",
              "      <td>8</td>\n",
              "      <td>0</td>\n",
              "      <td>1</td>\n",
              "      <td>1</td>\n",
              "      <td>0</td>\n",
              "      <td>0</td>\n",
              "      <td>1</td>\n",
              "    </tr>\n",
              "    <tr>\n",
              "      <th>1</th>\n",
              "      <td>9</td>\n",
              "      <td>0</td>\n",
              "      <td>1</td>\n",
              "      <td>1</td>\n",
              "      <td>7</td>\n",
              "      <td>0</td>\n",
              "      <td>0</td>\n",
              "      <td>0</td>\n",
              "      <td>0</td>\n",
              "      <td>1</td>\n",
              "      <td>0</td>\n",
              "      <td>0</td>\n",
              "      <td>0</td>\n",
              "      <td>0</td>\n",
              "      <td>0</td>\n",
              "      <td>0</td>\n",
              "      <td>3</td>\n",
              "      <td>0</td>\n",
              "      <td>0</td>\n",
              "      <td>1</td>\n",
              "      <td>0.8</td>\n",
              "      <td>0.4</td>\n",
              "      <td>0.766078</td>\n",
              "      <td>11</td>\n",
              "      <td>1</td>\n",
              "      <td>-1</td>\n",
              "      <td>0</td>\n",
              "      <td>-1</td>\n",
              "      <td>11</td>\n",
              "      <td>1</td>\n",
              "      <td>1</td>\n",
              "      <td>2</td>\n",
              "      <td>1</td>\n",
              "      <td>19</td>\n",
              "      <td>3</td>\n",
              "      <td>0.316228</td>\n",
              "      <td>0.618817</td>\n",
              "      <td>0.388716</td>\n",
              "      <td>2.449490</td>\n",
              "      <td>0.3</td>\n",
              "      <td>0.1</td>\n",
              "      <td>0.3</td>\n",
              "      <td>2</td>\n",
              "      <td>1</td>\n",
              "      <td>9</td>\n",
              "      <td>5</td>\n",
              "      <td>8</td>\n",
              "      <td>1</td>\n",
              "      <td>7</td>\n",
              "      <td>3</td>\n",
              "      <td>1</td>\n",
              "      <td>1</td>\n",
              "      <td>9</td>\n",
              "      <td>0</td>\n",
              "      <td>1</td>\n",
              "      <td>1</td>\n",
              "      <td>0</td>\n",
              "      <td>1</td>\n",
              "      <td>0</td>\n",
              "    </tr>\n",
              "    <tr>\n",
              "      <th>2</th>\n",
              "      <td>13</td>\n",
              "      <td>0</td>\n",
              "      <td>5</td>\n",
              "      <td>4</td>\n",
              "      <td>9</td>\n",
              "      <td>1</td>\n",
              "      <td>0</td>\n",
              "      <td>0</td>\n",
              "      <td>0</td>\n",
              "      <td>1</td>\n",
              "      <td>0</td>\n",
              "      <td>0</td>\n",
              "      <td>0</td>\n",
              "      <td>0</td>\n",
              "      <td>0</td>\n",
              "      <td>0</td>\n",
              "      <td>12</td>\n",
              "      <td>1</td>\n",
              "      <td>0</td>\n",
              "      <td>0</td>\n",
              "      <td>0.0</td>\n",
              "      <td>0.0</td>\n",
              "      <td>-1.000000</td>\n",
              "      <td>7</td>\n",
              "      <td>1</td>\n",
              "      <td>-1</td>\n",
              "      <td>0</td>\n",
              "      <td>-1</td>\n",
              "      <td>14</td>\n",
              "      <td>1</td>\n",
              "      <td>1</td>\n",
              "      <td>2</td>\n",
              "      <td>1</td>\n",
              "      <td>60</td>\n",
              "      <td>1</td>\n",
              "      <td>0.316228</td>\n",
              "      <td>0.641586</td>\n",
              "      <td>0.347275</td>\n",
              "      <td>3.316625</td>\n",
              "      <td>0.5</td>\n",
              "      <td>0.7</td>\n",
              "      <td>0.1</td>\n",
              "      <td>2</td>\n",
              "      <td>2</td>\n",
              "      <td>9</td>\n",
              "      <td>1</td>\n",
              "      <td>8</td>\n",
              "      <td>2</td>\n",
              "      <td>7</td>\n",
              "      <td>4</td>\n",
              "      <td>2</td>\n",
              "      <td>7</td>\n",
              "      <td>7</td>\n",
              "      <td>0</td>\n",
              "      <td>1</td>\n",
              "      <td>1</td>\n",
              "      <td>0</td>\n",
              "      <td>1</td>\n",
              "      <td>0</td>\n",
              "    </tr>\n",
              "    <tr>\n",
              "      <th>3</th>\n",
              "      <td>16</td>\n",
              "      <td>0</td>\n",
              "      <td>0</td>\n",
              "      <td>1</td>\n",
              "      <td>2</td>\n",
              "      <td>0</td>\n",
              "      <td>0</td>\n",
              "      <td>1</td>\n",
              "      <td>0</td>\n",
              "      <td>0</td>\n",
              "      <td>0</td>\n",
              "      <td>0</td>\n",
              "      <td>0</td>\n",
              "      <td>0</td>\n",
              "      <td>0</td>\n",
              "      <td>0</td>\n",
              "      <td>8</td>\n",
              "      <td>1</td>\n",
              "      <td>0</td>\n",
              "      <td>0</td>\n",
              "      <td>0.9</td>\n",
              "      <td>0.2</td>\n",
              "      <td>0.580948</td>\n",
              "      <td>7</td>\n",
              "      <td>1</td>\n",
              "      <td>0</td>\n",
              "      <td>0</td>\n",
              "      <td>1</td>\n",
              "      <td>11</td>\n",
              "      <td>1</td>\n",
              "      <td>1</td>\n",
              "      <td>3</td>\n",
              "      <td>1</td>\n",
              "      <td>104</td>\n",
              "      <td>1</td>\n",
              "      <td>0.374166</td>\n",
              "      <td>0.542949</td>\n",
              "      <td>0.294958</td>\n",
              "      <td>2.000000</td>\n",
              "      <td>0.6</td>\n",
              "      <td>0.9</td>\n",
              "      <td>0.1</td>\n",
              "      <td>2</td>\n",
              "      <td>4</td>\n",
              "      <td>7</td>\n",
              "      <td>1</td>\n",
              "      <td>8</td>\n",
              "      <td>4</td>\n",
              "      <td>2</td>\n",
              "      <td>2</td>\n",
              "      <td>2</td>\n",
              "      <td>4</td>\n",
              "      <td>9</td>\n",
              "      <td>0</td>\n",
              "      <td>0</td>\n",
              "      <td>0</td>\n",
              "      <td>0</td>\n",
              "      <td>0</td>\n",
              "      <td>0</td>\n",
              "    </tr>\n",
              "    <tr>\n",
              "      <th>4</th>\n",
              "      <td>17</td>\n",
              "      <td>0</td>\n",
              "      <td>0</td>\n",
              "      <td>2</td>\n",
              "      <td>0</td>\n",
              "      <td>1</td>\n",
              "      <td>0</td>\n",
              "      <td>1</td>\n",
              "      <td>0</td>\n",
              "      <td>0</td>\n",
              "      <td>0</td>\n",
              "      <td>0</td>\n",
              "      <td>0</td>\n",
              "      <td>0</td>\n",
              "      <td>0</td>\n",
              "      <td>0</td>\n",
              "      <td>9</td>\n",
              "      <td>1</td>\n",
              "      <td>0</td>\n",
              "      <td>0</td>\n",
              "      <td>0.7</td>\n",
              "      <td>0.6</td>\n",
              "      <td>0.840759</td>\n",
              "      <td>11</td>\n",
              "      <td>1</td>\n",
              "      <td>-1</td>\n",
              "      <td>0</td>\n",
              "      <td>-1</td>\n",
              "      <td>14</td>\n",
              "      <td>1</td>\n",
              "      <td>1</td>\n",
              "      <td>2</td>\n",
              "      <td>1</td>\n",
              "      <td>82</td>\n",
              "      <td>3</td>\n",
              "      <td>0.316070</td>\n",
              "      <td>0.565832</td>\n",
              "      <td>0.365103</td>\n",
              "      <td>2.000000</td>\n",
              "      <td>0.4</td>\n",
              "      <td>0.6</td>\n",
              "      <td>0.0</td>\n",
              "      <td>2</td>\n",
              "      <td>2</td>\n",
              "      <td>6</td>\n",
              "      <td>3</td>\n",
              "      <td>10</td>\n",
              "      <td>2</td>\n",
              "      <td>12</td>\n",
              "      <td>3</td>\n",
              "      <td>1</td>\n",
              "      <td>1</td>\n",
              "      <td>3</td>\n",
              "      <td>0</td>\n",
              "      <td>0</td>\n",
              "      <td>0</td>\n",
              "      <td>1</td>\n",
              "      <td>1</td>\n",
              "      <td>0</td>\n",
              "    </tr>\n",
              "  </tbody>\n",
              "</table>\n",
              "</div>"
            ],
            "text/plain": [
              "   id  target  ps_ind_01  ...  ps_calc_18_bin  ps_calc_19_bin  ps_calc_20_bin\n",
              "0   7       0          2  ...               0               0               1\n",
              "1   9       0          1  ...               0               1               0\n",
              "2  13       0          5  ...               0               1               0\n",
              "3  16       0          0  ...               0               0               0\n",
              "4  17       0          0  ...               1               1               0\n",
              "\n",
              "[5 rows x 59 columns]"
            ]
          },
          "metadata": {
            "tags": []
          },
          "execution_count": 3
        }
      ]
    },
    {
      "cell_type": "code",
      "metadata": {
        "id": "GxM6Md9Cp9im",
        "outputId": "3b29b75e-9545-4a91-8a38-548e2a848055",
        "colab": {
          "base_uri": "https://localhost:8080/",
          "height": 34
        }
      },
      "source": [
        "train.shape"
      ],
      "execution_count": 4,
      "outputs": [
        {
          "output_type": "execute_result",
          "data": {
            "text/plain": [
              "(595212, 59)"
            ]
          },
          "metadata": {
            "tags": []
          },
          "execution_count": 4
        }
      ]
    },
    {
      "cell_type": "markdown",
      "metadata": {
        "id": "85pG_1U07VLH"
      },
      "source": [
        "There are 595212 records with 59 columns"
      ]
    },
    {
      "cell_type": "code",
      "metadata": {
        "id": "ZXBbGXyPw0tb",
        "outputId": "180a0063-c594-48ba-dd6f-2907adbc28e5",
        "colab": {
          "base_uri": "https://localhost:8080/",
          "height": 272
        }
      },
      "source": [
        "train.columns"
      ],
      "execution_count": 5,
      "outputs": [
        {
          "output_type": "execute_result",
          "data": {
            "text/plain": [
              "Index(['id', 'target', 'ps_ind_01', 'ps_ind_02_cat', 'ps_ind_03',\n",
              "       'ps_ind_04_cat', 'ps_ind_05_cat', 'ps_ind_06_bin', 'ps_ind_07_bin',\n",
              "       'ps_ind_08_bin', 'ps_ind_09_bin', 'ps_ind_10_bin', 'ps_ind_11_bin',\n",
              "       'ps_ind_12_bin', 'ps_ind_13_bin', 'ps_ind_14', 'ps_ind_15',\n",
              "       'ps_ind_16_bin', 'ps_ind_17_bin', 'ps_ind_18_bin', 'ps_reg_01',\n",
              "       'ps_reg_02', 'ps_reg_03', 'ps_car_01_cat', 'ps_car_02_cat',\n",
              "       'ps_car_03_cat', 'ps_car_04_cat', 'ps_car_05_cat', 'ps_car_06_cat',\n",
              "       'ps_car_07_cat', 'ps_car_08_cat', 'ps_car_09_cat', 'ps_car_10_cat',\n",
              "       'ps_car_11_cat', 'ps_car_11', 'ps_car_12', 'ps_car_13', 'ps_car_14',\n",
              "       'ps_car_15', 'ps_calc_01', 'ps_calc_02', 'ps_calc_03', 'ps_calc_04',\n",
              "       'ps_calc_05', 'ps_calc_06', 'ps_calc_07', 'ps_calc_08', 'ps_calc_09',\n",
              "       'ps_calc_10', 'ps_calc_11', 'ps_calc_12', 'ps_calc_13', 'ps_calc_14',\n",
              "       'ps_calc_15_bin', 'ps_calc_16_bin', 'ps_calc_17_bin', 'ps_calc_18_bin',\n",
              "       'ps_calc_19_bin', 'ps_calc_20_bin'],\n",
              "      dtype='object')"
            ]
          },
          "metadata": {
            "tags": []
          },
          "execution_count": 5
        }
      ]
    },
    {
      "cell_type": "code",
      "metadata": {
        "id": "L9xsYtzTn6gj",
        "outputId": "a102c402-2e33-4033-ad52-66fa3a610ed8",
        "colab": {
          "base_uri": "https://localhost:8080/",
          "height": 317
        }
      },
      "source": [
        "train.describe()"
      ],
      "execution_count": 6,
      "outputs": [
        {
          "output_type": "execute_result",
          "data": {
            "text/html": [
              "<div>\n",
              "<style scoped>\n",
              "    .dataframe tbody tr th:only-of-type {\n",
              "        vertical-align: middle;\n",
              "    }\n",
              "\n",
              "    .dataframe tbody tr th {\n",
              "        vertical-align: top;\n",
              "    }\n",
              "\n",
              "    .dataframe thead th {\n",
              "        text-align: right;\n",
              "    }\n",
              "</style>\n",
              "<table border=\"1\" class=\"dataframe\">\n",
              "  <thead>\n",
              "    <tr style=\"text-align: right;\">\n",
              "      <th></th>\n",
              "      <th>id</th>\n",
              "      <th>target</th>\n",
              "      <th>ps_ind_01</th>\n",
              "      <th>ps_ind_02_cat</th>\n",
              "      <th>ps_ind_03</th>\n",
              "      <th>ps_ind_04_cat</th>\n",
              "      <th>ps_ind_05_cat</th>\n",
              "      <th>ps_ind_06_bin</th>\n",
              "      <th>ps_ind_07_bin</th>\n",
              "      <th>ps_ind_08_bin</th>\n",
              "      <th>ps_ind_09_bin</th>\n",
              "      <th>ps_ind_10_bin</th>\n",
              "      <th>ps_ind_11_bin</th>\n",
              "      <th>ps_ind_12_bin</th>\n",
              "      <th>ps_ind_13_bin</th>\n",
              "      <th>ps_ind_14</th>\n",
              "      <th>ps_ind_15</th>\n",
              "      <th>ps_ind_16_bin</th>\n",
              "      <th>ps_ind_17_bin</th>\n",
              "      <th>ps_ind_18_bin</th>\n",
              "      <th>ps_reg_01</th>\n",
              "      <th>ps_reg_02</th>\n",
              "      <th>ps_reg_03</th>\n",
              "      <th>ps_car_01_cat</th>\n",
              "      <th>ps_car_02_cat</th>\n",
              "      <th>ps_car_03_cat</th>\n",
              "      <th>ps_car_04_cat</th>\n",
              "      <th>ps_car_05_cat</th>\n",
              "      <th>ps_car_06_cat</th>\n",
              "      <th>ps_car_07_cat</th>\n",
              "      <th>ps_car_08_cat</th>\n",
              "      <th>ps_car_09_cat</th>\n",
              "      <th>ps_car_10_cat</th>\n",
              "      <th>ps_car_11_cat</th>\n",
              "      <th>ps_car_11</th>\n",
              "      <th>ps_car_12</th>\n",
              "      <th>ps_car_13</th>\n",
              "      <th>ps_car_14</th>\n",
              "      <th>ps_car_15</th>\n",
              "      <th>ps_calc_01</th>\n",
              "      <th>ps_calc_02</th>\n",
              "      <th>ps_calc_03</th>\n",
              "      <th>ps_calc_04</th>\n",
              "      <th>ps_calc_05</th>\n",
              "      <th>ps_calc_06</th>\n",
              "      <th>ps_calc_07</th>\n",
              "      <th>ps_calc_08</th>\n",
              "      <th>ps_calc_09</th>\n",
              "      <th>ps_calc_10</th>\n",
              "      <th>ps_calc_11</th>\n",
              "      <th>ps_calc_12</th>\n",
              "      <th>ps_calc_13</th>\n",
              "      <th>ps_calc_14</th>\n",
              "      <th>ps_calc_15_bin</th>\n",
              "      <th>ps_calc_16_bin</th>\n",
              "      <th>ps_calc_17_bin</th>\n",
              "      <th>ps_calc_18_bin</th>\n",
              "      <th>ps_calc_19_bin</th>\n",
              "      <th>ps_calc_20_bin</th>\n",
              "    </tr>\n",
              "  </thead>\n",
              "  <tbody>\n",
              "    <tr>\n",
              "      <th>count</th>\n",
              "      <td>5.952120e+05</td>\n",
              "      <td>595212.000000</td>\n",
              "      <td>595212.000000</td>\n",
              "      <td>595212.000000</td>\n",
              "      <td>595212.000000</td>\n",
              "      <td>595212.000000</td>\n",
              "      <td>595212.000000</td>\n",
              "      <td>595212.000000</td>\n",
              "      <td>595212.000000</td>\n",
              "      <td>595212.000000</td>\n",
              "      <td>595212.000000</td>\n",
              "      <td>595212.000000</td>\n",
              "      <td>595212.000000</td>\n",
              "      <td>595212.000000</td>\n",
              "      <td>595212.000000</td>\n",
              "      <td>595212.000000</td>\n",
              "      <td>595212.000000</td>\n",
              "      <td>595212.000000</td>\n",
              "      <td>595212.000000</td>\n",
              "      <td>595212.000000</td>\n",
              "      <td>595212.000000</td>\n",
              "      <td>595212.000000</td>\n",
              "      <td>595212.000000</td>\n",
              "      <td>595212.000000</td>\n",
              "      <td>595212.000000</td>\n",
              "      <td>595212.000000</td>\n",
              "      <td>595212.000000</td>\n",
              "      <td>595212.000000</td>\n",
              "      <td>595212.000000</td>\n",
              "      <td>595212.000000</td>\n",
              "      <td>595212.000000</td>\n",
              "      <td>595212.000000</td>\n",
              "      <td>595212.000000</td>\n",
              "      <td>595212.000000</td>\n",
              "      <td>595212.000000</td>\n",
              "      <td>595212.000000</td>\n",
              "      <td>595212.000000</td>\n",
              "      <td>595212.000000</td>\n",
              "      <td>595212.000000</td>\n",
              "      <td>595212.000000</td>\n",
              "      <td>595212.000000</td>\n",
              "      <td>595212.000000</td>\n",
              "      <td>595212.000000</td>\n",
              "      <td>595212.000000</td>\n",
              "      <td>595212.000000</td>\n",
              "      <td>595212.000000</td>\n",
              "      <td>595212.000000</td>\n",
              "      <td>595212.000000</td>\n",
              "      <td>595212.000000</td>\n",
              "      <td>595212.000000</td>\n",
              "      <td>595212.000000</td>\n",
              "      <td>595212.000000</td>\n",
              "      <td>595212.000000</td>\n",
              "      <td>595212.000000</td>\n",
              "      <td>595212.000000</td>\n",
              "      <td>595212.000000</td>\n",
              "      <td>595212.000000</td>\n",
              "      <td>595212.000000</td>\n",
              "      <td>595212.000000</td>\n",
              "    </tr>\n",
              "    <tr>\n",
              "      <th>mean</th>\n",
              "      <td>7.438036e+05</td>\n",
              "      <td>0.036448</td>\n",
              "      <td>1.900378</td>\n",
              "      <td>1.358943</td>\n",
              "      <td>4.423318</td>\n",
              "      <td>0.416794</td>\n",
              "      <td>0.405188</td>\n",
              "      <td>0.393742</td>\n",
              "      <td>0.257033</td>\n",
              "      <td>0.163921</td>\n",
              "      <td>0.185304</td>\n",
              "      <td>0.000373</td>\n",
              "      <td>0.001692</td>\n",
              "      <td>0.009439</td>\n",
              "      <td>0.000948</td>\n",
              "      <td>0.012451</td>\n",
              "      <td>7.299922</td>\n",
              "      <td>0.660823</td>\n",
              "      <td>0.121081</td>\n",
              "      <td>0.153446</td>\n",
              "      <td>0.610991</td>\n",
              "      <td>0.439184</td>\n",
              "      <td>0.551102</td>\n",
              "      <td>8.295933</td>\n",
              "      <td>0.829948</td>\n",
              "      <td>-0.504899</td>\n",
              "      <td>0.725192</td>\n",
              "      <td>-0.157732</td>\n",
              "      <td>6.555340</td>\n",
              "      <td>0.910027</td>\n",
              "      <td>0.832080</td>\n",
              "      <td>1.328890</td>\n",
              "      <td>0.992136</td>\n",
              "      <td>62.215674</td>\n",
              "      <td>2.346072</td>\n",
              "      <td>0.379945</td>\n",
              "      <td>0.813265</td>\n",
              "      <td>0.276256</td>\n",
              "      <td>3.065899</td>\n",
              "      <td>0.449756</td>\n",
              "      <td>0.449589</td>\n",
              "      <td>0.449849</td>\n",
              "      <td>2.372081</td>\n",
              "      <td>1.885886</td>\n",
              "      <td>7.689445</td>\n",
              "      <td>3.005823</td>\n",
              "      <td>9.225904</td>\n",
              "      <td>2.339034</td>\n",
              "      <td>8.433590</td>\n",
              "      <td>5.441382</td>\n",
              "      <td>1.441918</td>\n",
              "      <td>2.872288</td>\n",
              "      <td>7.539026</td>\n",
              "      <td>0.122427</td>\n",
              "      <td>0.627840</td>\n",
              "      <td>0.554182</td>\n",
              "      <td>0.287182</td>\n",
              "      <td>0.349024</td>\n",
              "      <td>0.153318</td>\n",
              "    </tr>\n",
              "    <tr>\n",
              "      <th>std</th>\n",
              "      <td>4.293678e+05</td>\n",
              "      <td>0.187401</td>\n",
              "      <td>1.983789</td>\n",
              "      <td>0.664594</td>\n",
              "      <td>2.699902</td>\n",
              "      <td>0.493311</td>\n",
              "      <td>1.350642</td>\n",
              "      <td>0.488579</td>\n",
              "      <td>0.436998</td>\n",
              "      <td>0.370205</td>\n",
              "      <td>0.388544</td>\n",
              "      <td>0.019309</td>\n",
              "      <td>0.041097</td>\n",
              "      <td>0.096693</td>\n",
              "      <td>0.030768</td>\n",
              "      <td>0.127545</td>\n",
              "      <td>3.546042</td>\n",
              "      <td>0.473430</td>\n",
              "      <td>0.326222</td>\n",
              "      <td>0.360417</td>\n",
              "      <td>0.287643</td>\n",
              "      <td>0.404264</td>\n",
              "      <td>0.793506</td>\n",
              "      <td>2.508270</td>\n",
              "      <td>0.375679</td>\n",
              "      <td>0.788654</td>\n",
              "      <td>2.153463</td>\n",
              "      <td>0.844417</td>\n",
              "      <td>5.501445</td>\n",
              "      <td>0.347106</td>\n",
              "      <td>0.373796</td>\n",
              "      <td>0.978747</td>\n",
              "      <td>0.091619</td>\n",
              "      <td>33.012455</td>\n",
              "      <td>0.832548</td>\n",
              "      <td>0.058327</td>\n",
              "      <td>0.224588</td>\n",
              "      <td>0.357154</td>\n",
              "      <td>0.731366</td>\n",
              "      <td>0.287198</td>\n",
              "      <td>0.286893</td>\n",
              "      <td>0.287153</td>\n",
              "      <td>1.117219</td>\n",
              "      <td>1.134927</td>\n",
              "      <td>1.334312</td>\n",
              "      <td>1.414564</td>\n",
              "      <td>1.459672</td>\n",
              "      <td>1.246949</td>\n",
              "      <td>2.904597</td>\n",
              "      <td>2.332871</td>\n",
              "      <td>1.202963</td>\n",
              "      <td>1.694887</td>\n",
              "      <td>2.746652</td>\n",
              "      <td>0.327779</td>\n",
              "      <td>0.483381</td>\n",
              "      <td>0.497056</td>\n",
              "      <td>0.452447</td>\n",
              "      <td>0.476662</td>\n",
              "      <td>0.360295</td>\n",
              "    </tr>\n",
              "    <tr>\n",
              "      <th>min</th>\n",
              "      <td>7.000000e+00</td>\n",
              "      <td>0.000000</td>\n",
              "      <td>0.000000</td>\n",
              "      <td>-1.000000</td>\n",
              "      <td>0.000000</td>\n",
              "      <td>-1.000000</td>\n",
              "      <td>-1.000000</td>\n",
              "      <td>0.000000</td>\n",
              "      <td>0.000000</td>\n",
              "      <td>0.000000</td>\n",
              "      <td>0.000000</td>\n",
              "      <td>0.000000</td>\n",
              "      <td>0.000000</td>\n",
              "      <td>0.000000</td>\n",
              "      <td>0.000000</td>\n",
              "      <td>0.000000</td>\n",
              "      <td>0.000000</td>\n",
              "      <td>0.000000</td>\n",
              "      <td>0.000000</td>\n",
              "      <td>0.000000</td>\n",
              "      <td>0.000000</td>\n",
              "      <td>0.000000</td>\n",
              "      <td>-1.000000</td>\n",
              "      <td>-1.000000</td>\n",
              "      <td>0.000000</td>\n",
              "      <td>-1.000000</td>\n",
              "      <td>0.000000</td>\n",
              "      <td>-1.000000</td>\n",
              "      <td>0.000000</td>\n",
              "      <td>-1.000000</td>\n",
              "      <td>0.000000</td>\n",
              "      <td>-1.000000</td>\n",
              "      <td>0.000000</td>\n",
              "      <td>1.000000</td>\n",
              "      <td>-1.000000</td>\n",
              "      <td>-1.000000</td>\n",
              "      <td>0.250619</td>\n",
              "      <td>-1.000000</td>\n",
              "      <td>0.000000</td>\n",
              "      <td>0.000000</td>\n",
              "      <td>0.000000</td>\n",
              "      <td>0.000000</td>\n",
              "      <td>0.000000</td>\n",
              "      <td>0.000000</td>\n",
              "      <td>0.000000</td>\n",
              "      <td>0.000000</td>\n",
              "      <td>2.000000</td>\n",
              "      <td>0.000000</td>\n",
              "      <td>0.000000</td>\n",
              "      <td>0.000000</td>\n",
              "      <td>0.000000</td>\n",
              "      <td>0.000000</td>\n",
              "      <td>0.000000</td>\n",
              "      <td>0.000000</td>\n",
              "      <td>0.000000</td>\n",
              "      <td>0.000000</td>\n",
              "      <td>0.000000</td>\n",
              "      <td>0.000000</td>\n",
              "      <td>0.000000</td>\n",
              "    </tr>\n",
              "    <tr>\n",
              "      <th>25%</th>\n",
              "      <td>3.719915e+05</td>\n",
              "      <td>0.000000</td>\n",
              "      <td>0.000000</td>\n",
              "      <td>1.000000</td>\n",
              "      <td>2.000000</td>\n",
              "      <td>0.000000</td>\n",
              "      <td>0.000000</td>\n",
              "      <td>0.000000</td>\n",
              "      <td>0.000000</td>\n",
              "      <td>0.000000</td>\n",
              "      <td>0.000000</td>\n",
              "      <td>0.000000</td>\n",
              "      <td>0.000000</td>\n",
              "      <td>0.000000</td>\n",
              "      <td>0.000000</td>\n",
              "      <td>0.000000</td>\n",
              "      <td>5.000000</td>\n",
              "      <td>0.000000</td>\n",
              "      <td>0.000000</td>\n",
              "      <td>0.000000</td>\n",
              "      <td>0.400000</td>\n",
              "      <td>0.200000</td>\n",
              "      <td>0.525000</td>\n",
              "      <td>7.000000</td>\n",
              "      <td>1.000000</td>\n",
              "      <td>-1.000000</td>\n",
              "      <td>0.000000</td>\n",
              "      <td>-1.000000</td>\n",
              "      <td>1.000000</td>\n",
              "      <td>1.000000</td>\n",
              "      <td>1.000000</td>\n",
              "      <td>0.000000</td>\n",
              "      <td>1.000000</td>\n",
              "      <td>32.000000</td>\n",
              "      <td>2.000000</td>\n",
              "      <td>0.316228</td>\n",
              "      <td>0.670867</td>\n",
              "      <td>0.333167</td>\n",
              "      <td>2.828427</td>\n",
              "      <td>0.200000</td>\n",
              "      <td>0.200000</td>\n",
              "      <td>0.200000</td>\n",
              "      <td>2.000000</td>\n",
              "      <td>1.000000</td>\n",
              "      <td>7.000000</td>\n",
              "      <td>2.000000</td>\n",
              "      <td>8.000000</td>\n",
              "      <td>1.000000</td>\n",
              "      <td>6.000000</td>\n",
              "      <td>4.000000</td>\n",
              "      <td>1.000000</td>\n",
              "      <td>2.000000</td>\n",
              "      <td>6.000000</td>\n",
              "      <td>0.000000</td>\n",
              "      <td>0.000000</td>\n",
              "      <td>0.000000</td>\n",
              "      <td>0.000000</td>\n",
              "      <td>0.000000</td>\n",
              "      <td>0.000000</td>\n",
              "    </tr>\n",
              "    <tr>\n",
              "      <th>50%</th>\n",
              "      <td>7.435475e+05</td>\n",
              "      <td>0.000000</td>\n",
              "      <td>1.000000</td>\n",
              "      <td>1.000000</td>\n",
              "      <td>4.000000</td>\n",
              "      <td>0.000000</td>\n",
              "      <td>0.000000</td>\n",
              "      <td>0.000000</td>\n",
              "      <td>0.000000</td>\n",
              "      <td>0.000000</td>\n",
              "      <td>0.000000</td>\n",
              "      <td>0.000000</td>\n",
              "      <td>0.000000</td>\n",
              "      <td>0.000000</td>\n",
              "      <td>0.000000</td>\n",
              "      <td>0.000000</td>\n",
              "      <td>7.000000</td>\n",
              "      <td>1.000000</td>\n",
              "      <td>0.000000</td>\n",
              "      <td>0.000000</td>\n",
              "      <td>0.700000</td>\n",
              "      <td>0.300000</td>\n",
              "      <td>0.720677</td>\n",
              "      <td>7.000000</td>\n",
              "      <td>1.000000</td>\n",
              "      <td>-1.000000</td>\n",
              "      <td>0.000000</td>\n",
              "      <td>0.000000</td>\n",
              "      <td>7.000000</td>\n",
              "      <td>1.000000</td>\n",
              "      <td>1.000000</td>\n",
              "      <td>2.000000</td>\n",
              "      <td>1.000000</td>\n",
              "      <td>65.000000</td>\n",
              "      <td>3.000000</td>\n",
              "      <td>0.374166</td>\n",
              "      <td>0.765811</td>\n",
              "      <td>0.368782</td>\n",
              "      <td>3.316625</td>\n",
              "      <td>0.500000</td>\n",
              "      <td>0.400000</td>\n",
              "      <td>0.500000</td>\n",
              "      <td>2.000000</td>\n",
              "      <td>2.000000</td>\n",
              "      <td>8.000000</td>\n",
              "      <td>3.000000</td>\n",
              "      <td>9.000000</td>\n",
              "      <td>2.000000</td>\n",
              "      <td>8.000000</td>\n",
              "      <td>5.000000</td>\n",
              "      <td>1.000000</td>\n",
              "      <td>3.000000</td>\n",
              "      <td>7.000000</td>\n",
              "      <td>0.000000</td>\n",
              "      <td>1.000000</td>\n",
              "      <td>1.000000</td>\n",
              "      <td>0.000000</td>\n",
              "      <td>0.000000</td>\n",
              "      <td>0.000000</td>\n",
              "    </tr>\n",
              "    <tr>\n",
              "      <th>75%</th>\n",
              "      <td>1.115549e+06</td>\n",
              "      <td>0.000000</td>\n",
              "      <td>3.000000</td>\n",
              "      <td>2.000000</td>\n",
              "      <td>6.000000</td>\n",
              "      <td>1.000000</td>\n",
              "      <td>0.000000</td>\n",
              "      <td>1.000000</td>\n",
              "      <td>1.000000</td>\n",
              "      <td>0.000000</td>\n",
              "      <td>0.000000</td>\n",
              "      <td>0.000000</td>\n",
              "      <td>0.000000</td>\n",
              "      <td>0.000000</td>\n",
              "      <td>0.000000</td>\n",
              "      <td>0.000000</td>\n",
              "      <td>10.000000</td>\n",
              "      <td>1.000000</td>\n",
              "      <td>0.000000</td>\n",
              "      <td>0.000000</td>\n",
              "      <td>0.900000</td>\n",
              "      <td>0.600000</td>\n",
              "      <td>1.000000</td>\n",
              "      <td>11.000000</td>\n",
              "      <td>1.000000</td>\n",
              "      <td>0.000000</td>\n",
              "      <td>0.000000</td>\n",
              "      <td>1.000000</td>\n",
              "      <td>11.000000</td>\n",
              "      <td>1.000000</td>\n",
              "      <td>1.000000</td>\n",
              "      <td>2.000000</td>\n",
              "      <td>1.000000</td>\n",
              "      <td>93.000000</td>\n",
              "      <td>3.000000</td>\n",
              "      <td>0.400000</td>\n",
              "      <td>0.906190</td>\n",
              "      <td>0.396485</td>\n",
              "      <td>3.605551</td>\n",
              "      <td>0.700000</td>\n",
              "      <td>0.700000</td>\n",
              "      <td>0.700000</td>\n",
              "      <td>3.000000</td>\n",
              "      <td>3.000000</td>\n",
              "      <td>9.000000</td>\n",
              "      <td>4.000000</td>\n",
              "      <td>10.000000</td>\n",
              "      <td>3.000000</td>\n",
              "      <td>10.000000</td>\n",
              "      <td>7.000000</td>\n",
              "      <td>2.000000</td>\n",
              "      <td>4.000000</td>\n",
              "      <td>9.000000</td>\n",
              "      <td>0.000000</td>\n",
              "      <td>1.000000</td>\n",
              "      <td>1.000000</td>\n",
              "      <td>1.000000</td>\n",
              "      <td>1.000000</td>\n",
              "      <td>0.000000</td>\n",
              "    </tr>\n",
              "    <tr>\n",
              "      <th>max</th>\n",
              "      <td>1.488027e+06</td>\n",
              "      <td>1.000000</td>\n",
              "      <td>7.000000</td>\n",
              "      <td>4.000000</td>\n",
              "      <td>11.000000</td>\n",
              "      <td>1.000000</td>\n",
              "      <td>6.000000</td>\n",
              "      <td>1.000000</td>\n",
              "      <td>1.000000</td>\n",
              "      <td>1.000000</td>\n",
              "      <td>1.000000</td>\n",
              "      <td>1.000000</td>\n",
              "      <td>1.000000</td>\n",
              "      <td>1.000000</td>\n",
              "      <td>1.000000</td>\n",
              "      <td>4.000000</td>\n",
              "      <td>13.000000</td>\n",
              "      <td>1.000000</td>\n",
              "      <td>1.000000</td>\n",
              "      <td>1.000000</td>\n",
              "      <td>0.900000</td>\n",
              "      <td>1.800000</td>\n",
              "      <td>4.037945</td>\n",
              "      <td>11.000000</td>\n",
              "      <td>1.000000</td>\n",
              "      <td>1.000000</td>\n",
              "      <td>9.000000</td>\n",
              "      <td>1.000000</td>\n",
              "      <td>17.000000</td>\n",
              "      <td>1.000000</td>\n",
              "      <td>1.000000</td>\n",
              "      <td>4.000000</td>\n",
              "      <td>2.000000</td>\n",
              "      <td>104.000000</td>\n",
              "      <td>3.000000</td>\n",
              "      <td>1.264911</td>\n",
              "      <td>3.720626</td>\n",
              "      <td>0.636396</td>\n",
              "      <td>3.741657</td>\n",
              "      <td>0.900000</td>\n",
              "      <td>0.900000</td>\n",
              "      <td>0.900000</td>\n",
              "      <td>5.000000</td>\n",
              "      <td>6.000000</td>\n",
              "      <td>10.000000</td>\n",
              "      <td>9.000000</td>\n",
              "      <td>12.000000</td>\n",
              "      <td>7.000000</td>\n",
              "      <td>25.000000</td>\n",
              "      <td>19.000000</td>\n",
              "      <td>10.000000</td>\n",
              "      <td>13.000000</td>\n",
              "      <td>23.000000</td>\n",
              "      <td>1.000000</td>\n",
              "      <td>1.000000</td>\n",
              "      <td>1.000000</td>\n",
              "      <td>1.000000</td>\n",
              "      <td>1.000000</td>\n",
              "      <td>1.000000</td>\n",
              "    </tr>\n",
              "  </tbody>\n",
              "</table>\n",
              "</div>"
            ],
            "text/plain": [
              "                 id         target  ...  ps_calc_19_bin  ps_calc_20_bin\n",
              "count  5.952120e+05  595212.000000  ...   595212.000000   595212.000000\n",
              "mean   7.438036e+05       0.036448  ...        0.349024        0.153318\n",
              "std    4.293678e+05       0.187401  ...        0.476662        0.360295\n",
              "min    7.000000e+00       0.000000  ...        0.000000        0.000000\n",
              "25%    3.719915e+05       0.000000  ...        0.000000        0.000000\n",
              "50%    7.435475e+05       0.000000  ...        0.000000        0.000000\n",
              "75%    1.115549e+06       0.000000  ...        1.000000        0.000000\n",
              "max    1.488027e+06       1.000000  ...        1.000000        1.000000\n",
              "\n",
              "[8 rows x 59 columns]"
            ]
          },
          "metadata": {
            "tags": []
          },
          "execution_count": 6
        }
      ]
    },
    {
      "cell_type": "markdown",
      "metadata": {
        "id": "lQGGa-R9qp-1"
      },
      "source": [
        "**Dropping Null Values from target values**"
      ]
    },
    {
      "cell_type": "code",
      "metadata": {
        "id": "HeDGCEVltPj4",
        "outputId": "a292a96a-249f-4086-eac5-34bde9f9618b",
        "colab": {
          "base_uri": "https://localhost:8080/",
          "height": 34
        }
      },
      "source": [
        "train.drop_duplicates()\n",
        "train.shape"
      ],
      "execution_count": 7,
      "outputs": [
        {
          "output_type": "execute_result",
          "data": {
            "text/plain": [
              "(595212, 59)"
            ]
          },
          "metadata": {
            "tags": []
          },
          "execution_count": 7
        }
      ]
    },
    {
      "cell_type": "markdown",
      "metadata": {
        "id": "wEgokzUQ7w1N"
      },
      "source": [
        "No duplicate rows, so that's fine."
      ]
    },
    {
      "cell_type": "code",
      "metadata": {
        "id": "ffDSe3kKuvjS",
        "outputId": "0d6cb7e1-9571-4257-8d55-ff8918d7258c",
        "colab": {
          "base_uri": "https://localhost:8080/",
          "height": 1000
        }
      },
      "source": [
        "train.info()"
      ],
      "execution_count": 8,
      "outputs": [
        {
          "output_type": "stream",
          "text": [
            "<class 'pandas.core.frame.DataFrame'>\n",
            "RangeIndex: 595212 entries, 0 to 595211\n",
            "Data columns (total 59 columns):\n",
            " #   Column          Non-Null Count   Dtype  \n",
            "---  ------          --------------   -----  \n",
            " 0   id              595212 non-null  int64  \n",
            " 1   target          595212 non-null  int64  \n",
            " 2   ps_ind_01       595212 non-null  int64  \n",
            " 3   ps_ind_02_cat   595212 non-null  int64  \n",
            " 4   ps_ind_03       595212 non-null  int64  \n",
            " 5   ps_ind_04_cat   595212 non-null  int64  \n",
            " 6   ps_ind_05_cat   595212 non-null  int64  \n",
            " 7   ps_ind_06_bin   595212 non-null  int64  \n",
            " 8   ps_ind_07_bin   595212 non-null  int64  \n",
            " 9   ps_ind_08_bin   595212 non-null  int64  \n",
            " 10  ps_ind_09_bin   595212 non-null  int64  \n",
            " 11  ps_ind_10_bin   595212 non-null  int64  \n",
            " 12  ps_ind_11_bin   595212 non-null  int64  \n",
            " 13  ps_ind_12_bin   595212 non-null  int64  \n",
            " 14  ps_ind_13_bin   595212 non-null  int64  \n",
            " 15  ps_ind_14       595212 non-null  int64  \n",
            " 16  ps_ind_15       595212 non-null  int64  \n",
            " 17  ps_ind_16_bin   595212 non-null  int64  \n",
            " 18  ps_ind_17_bin   595212 non-null  int64  \n",
            " 19  ps_ind_18_bin   595212 non-null  int64  \n",
            " 20  ps_reg_01       595212 non-null  float64\n",
            " 21  ps_reg_02       595212 non-null  float64\n",
            " 22  ps_reg_03       595212 non-null  float64\n",
            " 23  ps_car_01_cat   595212 non-null  int64  \n",
            " 24  ps_car_02_cat   595212 non-null  int64  \n",
            " 25  ps_car_03_cat   595212 non-null  int64  \n",
            " 26  ps_car_04_cat   595212 non-null  int64  \n",
            " 27  ps_car_05_cat   595212 non-null  int64  \n",
            " 28  ps_car_06_cat   595212 non-null  int64  \n",
            " 29  ps_car_07_cat   595212 non-null  int64  \n",
            " 30  ps_car_08_cat   595212 non-null  int64  \n",
            " 31  ps_car_09_cat   595212 non-null  int64  \n",
            " 32  ps_car_10_cat   595212 non-null  int64  \n",
            " 33  ps_car_11_cat   595212 non-null  int64  \n",
            " 34  ps_car_11       595212 non-null  int64  \n",
            " 35  ps_car_12       595212 non-null  float64\n",
            " 36  ps_car_13       595212 non-null  float64\n",
            " 37  ps_car_14       595212 non-null  float64\n",
            " 38  ps_car_15       595212 non-null  float64\n",
            " 39  ps_calc_01      595212 non-null  float64\n",
            " 40  ps_calc_02      595212 non-null  float64\n",
            " 41  ps_calc_03      595212 non-null  float64\n",
            " 42  ps_calc_04      595212 non-null  int64  \n",
            " 43  ps_calc_05      595212 non-null  int64  \n",
            " 44  ps_calc_06      595212 non-null  int64  \n",
            " 45  ps_calc_07      595212 non-null  int64  \n",
            " 46  ps_calc_08      595212 non-null  int64  \n",
            " 47  ps_calc_09      595212 non-null  int64  \n",
            " 48  ps_calc_10      595212 non-null  int64  \n",
            " 49  ps_calc_11      595212 non-null  int64  \n",
            " 50  ps_calc_12      595212 non-null  int64  \n",
            " 51  ps_calc_13      595212 non-null  int64  \n",
            " 52  ps_calc_14      595212 non-null  int64  \n",
            " 53  ps_calc_15_bin  595212 non-null  int64  \n",
            " 54  ps_calc_16_bin  595212 non-null  int64  \n",
            " 55  ps_calc_17_bin  595212 non-null  int64  \n",
            " 56  ps_calc_18_bin  595212 non-null  int64  \n",
            " 57  ps_calc_19_bin  595212 non-null  int64  \n",
            " 58  ps_calc_20_bin  595212 non-null  int64  \n",
            "dtypes: float64(10), int64(49)\n",
            "memory usage: 267.9 MB\n"
          ],
          "name": "stdout"
        }
      ]
    },
    {
      "cell_type": "markdown",
      "metadata": {
        "id": "SCCwuwri78Rk"
      },
      "source": [
        "Again, with the info() method we see that the data type is integer or float. No null values are present in the data set. That's normal because missing values are replaced by -1."
      ]
    },
    {
      "cell_type": "markdown",
      "metadata": {
        "id": "NGD8KPTIPflt"
      },
      "source": [
        "**Metadata**\n",
        "To facilitate the data management, we'll store meta-information about the variables in a DataFrame. This will be helpful when we want to select specific variables for analysis, visualization, modeling, ...\n",
        "\n",
        "Concretely we will store:\n",
        "*   **role:** input, ID, target\n",
        "*   **level:** nominal, interval, ordinal, binary\n",
        "*   **keep:** True or False\n",
        "*   **dtype:** int, float, str"
      ]
    },
    {
      "cell_type": "code",
      "metadata": {
        "id": "AdoYCQkmyZP-"
      },
      "source": [
        "data = []\n",
        "for f in train.columns:\n",
        "    # Defining the role\n",
        "    if f == 'target':\n",
        "        role = 'target'\n",
        "    elif f == 'id':\n",
        "        role = 'id'\n",
        "    else:\n",
        "        role = 'input'\n",
        "         \n",
        "    # Defining the level\n",
        "    if 'bin' in f or f == 'target':\n",
        "        level = 'binary'\n",
        "    elif 'cat' in f or f == 'id':\n",
        "        level = 'nominal'\n",
        "    elif train[f].dtype == float:\n",
        "        level = 'interval'\n",
        "    elif train[f].dtype == int:\n",
        "        level = 'ordinal'\n",
        "        \n",
        "    # Initialize keep to True for all variables except for id\n",
        "    keep = True\n",
        "    if f == 'id':\n",
        "        keep = False\n",
        "    \n",
        "    # Defining the data type \n",
        "    dtype = train[f].dtype\n",
        "    \n",
        "    # Creating a Dict that contains all the metadata for the variable\n",
        "    f_dict = {\n",
        "        'varname': f,\n",
        "        'role': role,\n",
        "        'level': level,\n",
        "        'keep': keep,\n",
        "        'dtype': dtype\n",
        "    }\n",
        "    data.append(f_dict)\n",
        "    \n",
        "meta = pd.DataFrame(data, columns=['varname', 'role', 'level', 'keep', 'dtype'])\n",
        "meta.set_index('varname', inplace=True)"
      ],
      "execution_count": 10,
      "outputs": []
    },
    {
      "cell_type": "code",
      "metadata": {
        "id": "Wv-Z4MhIydF0",
        "outputId": "790038e8-f57c-47a3-a91b-c1ed6fe5de05",
        "colab": {
          "base_uri": "https://localhost:8080/",
          "height": 1000
        }
      },
      "source": [
        "meta"
      ],
      "execution_count": 11,
      "outputs": [
        {
          "output_type": "execute_result",
          "data": {
            "text/html": [
              "<div>\n",
              "<style scoped>\n",
              "    .dataframe tbody tr th:only-of-type {\n",
              "        vertical-align: middle;\n",
              "    }\n",
              "\n",
              "    .dataframe tbody tr th {\n",
              "        vertical-align: top;\n",
              "    }\n",
              "\n",
              "    .dataframe thead th {\n",
              "        text-align: right;\n",
              "    }\n",
              "</style>\n",
              "<table border=\"1\" class=\"dataframe\">\n",
              "  <thead>\n",
              "    <tr style=\"text-align: right;\">\n",
              "      <th></th>\n",
              "      <th>role</th>\n",
              "      <th>level</th>\n",
              "      <th>keep</th>\n",
              "      <th>dtype</th>\n",
              "    </tr>\n",
              "    <tr>\n",
              "      <th>varname</th>\n",
              "      <th></th>\n",
              "      <th></th>\n",
              "      <th></th>\n",
              "      <th></th>\n",
              "    </tr>\n",
              "  </thead>\n",
              "  <tbody>\n",
              "    <tr>\n",
              "      <th>id</th>\n",
              "      <td>id</td>\n",
              "      <td>nominal</td>\n",
              "      <td>False</td>\n",
              "      <td>int64</td>\n",
              "    </tr>\n",
              "    <tr>\n",
              "      <th>target</th>\n",
              "      <td>target</td>\n",
              "      <td>binary</td>\n",
              "      <td>True</td>\n",
              "      <td>int64</td>\n",
              "    </tr>\n",
              "    <tr>\n",
              "      <th>ps_ind_01</th>\n",
              "      <td>input</td>\n",
              "      <td>ordinal</td>\n",
              "      <td>True</td>\n",
              "      <td>int64</td>\n",
              "    </tr>\n",
              "    <tr>\n",
              "      <th>ps_ind_02_cat</th>\n",
              "      <td>input</td>\n",
              "      <td>nominal</td>\n",
              "      <td>True</td>\n",
              "      <td>int64</td>\n",
              "    </tr>\n",
              "    <tr>\n",
              "      <th>ps_ind_03</th>\n",
              "      <td>input</td>\n",
              "      <td>ordinal</td>\n",
              "      <td>True</td>\n",
              "      <td>int64</td>\n",
              "    </tr>\n",
              "    <tr>\n",
              "      <th>ps_ind_04_cat</th>\n",
              "      <td>input</td>\n",
              "      <td>nominal</td>\n",
              "      <td>True</td>\n",
              "      <td>int64</td>\n",
              "    </tr>\n",
              "    <tr>\n",
              "      <th>ps_ind_05_cat</th>\n",
              "      <td>input</td>\n",
              "      <td>nominal</td>\n",
              "      <td>True</td>\n",
              "      <td>int64</td>\n",
              "    </tr>\n",
              "    <tr>\n",
              "      <th>ps_ind_06_bin</th>\n",
              "      <td>input</td>\n",
              "      <td>binary</td>\n",
              "      <td>True</td>\n",
              "      <td>int64</td>\n",
              "    </tr>\n",
              "    <tr>\n",
              "      <th>ps_ind_07_bin</th>\n",
              "      <td>input</td>\n",
              "      <td>binary</td>\n",
              "      <td>True</td>\n",
              "      <td>int64</td>\n",
              "    </tr>\n",
              "    <tr>\n",
              "      <th>ps_ind_08_bin</th>\n",
              "      <td>input</td>\n",
              "      <td>binary</td>\n",
              "      <td>True</td>\n",
              "      <td>int64</td>\n",
              "    </tr>\n",
              "    <tr>\n",
              "      <th>ps_ind_09_bin</th>\n",
              "      <td>input</td>\n",
              "      <td>binary</td>\n",
              "      <td>True</td>\n",
              "      <td>int64</td>\n",
              "    </tr>\n",
              "    <tr>\n",
              "      <th>ps_ind_10_bin</th>\n",
              "      <td>input</td>\n",
              "      <td>binary</td>\n",
              "      <td>True</td>\n",
              "      <td>int64</td>\n",
              "    </tr>\n",
              "    <tr>\n",
              "      <th>ps_ind_11_bin</th>\n",
              "      <td>input</td>\n",
              "      <td>binary</td>\n",
              "      <td>True</td>\n",
              "      <td>int64</td>\n",
              "    </tr>\n",
              "    <tr>\n",
              "      <th>ps_ind_12_bin</th>\n",
              "      <td>input</td>\n",
              "      <td>binary</td>\n",
              "      <td>True</td>\n",
              "      <td>int64</td>\n",
              "    </tr>\n",
              "    <tr>\n",
              "      <th>ps_ind_13_bin</th>\n",
              "      <td>input</td>\n",
              "      <td>binary</td>\n",
              "      <td>True</td>\n",
              "      <td>int64</td>\n",
              "    </tr>\n",
              "    <tr>\n",
              "      <th>ps_ind_14</th>\n",
              "      <td>input</td>\n",
              "      <td>ordinal</td>\n",
              "      <td>True</td>\n",
              "      <td>int64</td>\n",
              "    </tr>\n",
              "    <tr>\n",
              "      <th>ps_ind_15</th>\n",
              "      <td>input</td>\n",
              "      <td>ordinal</td>\n",
              "      <td>True</td>\n",
              "      <td>int64</td>\n",
              "    </tr>\n",
              "    <tr>\n",
              "      <th>ps_ind_16_bin</th>\n",
              "      <td>input</td>\n",
              "      <td>binary</td>\n",
              "      <td>True</td>\n",
              "      <td>int64</td>\n",
              "    </tr>\n",
              "    <tr>\n",
              "      <th>ps_ind_17_bin</th>\n",
              "      <td>input</td>\n",
              "      <td>binary</td>\n",
              "      <td>True</td>\n",
              "      <td>int64</td>\n",
              "    </tr>\n",
              "    <tr>\n",
              "      <th>ps_ind_18_bin</th>\n",
              "      <td>input</td>\n",
              "      <td>binary</td>\n",
              "      <td>True</td>\n",
              "      <td>int64</td>\n",
              "    </tr>\n",
              "    <tr>\n",
              "      <th>ps_reg_01</th>\n",
              "      <td>input</td>\n",
              "      <td>interval</td>\n",
              "      <td>True</td>\n",
              "      <td>float64</td>\n",
              "    </tr>\n",
              "    <tr>\n",
              "      <th>ps_reg_02</th>\n",
              "      <td>input</td>\n",
              "      <td>interval</td>\n",
              "      <td>True</td>\n",
              "      <td>float64</td>\n",
              "    </tr>\n",
              "    <tr>\n",
              "      <th>ps_reg_03</th>\n",
              "      <td>input</td>\n",
              "      <td>interval</td>\n",
              "      <td>True</td>\n",
              "      <td>float64</td>\n",
              "    </tr>\n",
              "    <tr>\n",
              "      <th>ps_car_01_cat</th>\n",
              "      <td>input</td>\n",
              "      <td>nominal</td>\n",
              "      <td>True</td>\n",
              "      <td>int64</td>\n",
              "    </tr>\n",
              "    <tr>\n",
              "      <th>ps_car_02_cat</th>\n",
              "      <td>input</td>\n",
              "      <td>nominal</td>\n",
              "      <td>True</td>\n",
              "      <td>int64</td>\n",
              "    </tr>\n",
              "    <tr>\n",
              "      <th>ps_car_03_cat</th>\n",
              "      <td>input</td>\n",
              "      <td>nominal</td>\n",
              "      <td>True</td>\n",
              "      <td>int64</td>\n",
              "    </tr>\n",
              "    <tr>\n",
              "      <th>ps_car_04_cat</th>\n",
              "      <td>input</td>\n",
              "      <td>nominal</td>\n",
              "      <td>True</td>\n",
              "      <td>int64</td>\n",
              "    </tr>\n",
              "    <tr>\n",
              "      <th>ps_car_05_cat</th>\n",
              "      <td>input</td>\n",
              "      <td>nominal</td>\n",
              "      <td>True</td>\n",
              "      <td>int64</td>\n",
              "    </tr>\n",
              "    <tr>\n",
              "      <th>ps_car_06_cat</th>\n",
              "      <td>input</td>\n",
              "      <td>nominal</td>\n",
              "      <td>True</td>\n",
              "      <td>int64</td>\n",
              "    </tr>\n",
              "    <tr>\n",
              "      <th>ps_car_07_cat</th>\n",
              "      <td>input</td>\n",
              "      <td>nominal</td>\n",
              "      <td>True</td>\n",
              "      <td>int64</td>\n",
              "    </tr>\n",
              "    <tr>\n",
              "      <th>ps_car_08_cat</th>\n",
              "      <td>input</td>\n",
              "      <td>nominal</td>\n",
              "      <td>True</td>\n",
              "      <td>int64</td>\n",
              "    </tr>\n",
              "    <tr>\n",
              "      <th>ps_car_09_cat</th>\n",
              "      <td>input</td>\n",
              "      <td>nominal</td>\n",
              "      <td>True</td>\n",
              "      <td>int64</td>\n",
              "    </tr>\n",
              "    <tr>\n",
              "      <th>ps_car_10_cat</th>\n",
              "      <td>input</td>\n",
              "      <td>nominal</td>\n",
              "      <td>True</td>\n",
              "      <td>int64</td>\n",
              "    </tr>\n",
              "    <tr>\n",
              "      <th>ps_car_11_cat</th>\n",
              "      <td>input</td>\n",
              "      <td>nominal</td>\n",
              "      <td>True</td>\n",
              "      <td>int64</td>\n",
              "    </tr>\n",
              "    <tr>\n",
              "      <th>ps_car_11</th>\n",
              "      <td>input</td>\n",
              "      <td>ordinal</td>\n",
              "      <td>True</td>\n",
              "      <td>int64</td>\n",
              "    </tr>\n",
              "    <tr>\n",
              "      <th>ps_car_12</th>\n",
              "      <td>input</td>\n",
              "      <td>interval</td>\n",
              "      <td>True</td>\n",
              "      <td>float64</td>\n",
              "    </tr>\n",
              "    <tr>\n",
              "      <th>ps_car_13</th>\n",
              "      <td>input</td>\n",
              "      <td>interval</td>\n",
              "      <td>True</td>\n",
              "      <td>float64</td>\n",
              "    </tr>\n",
              "    <tr>\n",
              "      <th>ps_car_14</th>\n",
              "      <td>input</td>\n",
              "      <td>interval</td>\n",
              "      <td>True</td>\n",
              "      <td>float64</td>\n",
              "    </tr>\n",
              "    <tr>\n",
              "      <th>ps_car_15</th>\n",
              "      <td>input</td>\n",
              "      <td>interval</td>\n",
              "      <td>True</td>\n",
              "      <td>float64</td>\n",
              "    </tr>\n",
              "    <tr>\n",
              "      <th>ps_calc_01</th>\n",
              "      <td>input</td>\n",
              "      <td>interval</td>\n",
              "      <td>True</td>\n",
              "      <td>float64</td>\n",
              "    </tr>\n",
              "    <tr>\n",
              "      <th>ps_calc_02</th>\n",
              "      <td>input</td>\n",
              "      <td>interval</td>\n",
              "      <td>True</td>\n",
              "      <td>float64</td>\n",
              "    </tr>\n",
              "    <tr>\n",
              "      <th>ps_calc_03</th>\n",
              "      <td>input</td>\n",
              "      <td>interval</td>\n",
              "      <td>True</td>\n",
              "      <td>float64</td>\n",
              "    </tr>\n",
              "    <tr>\n",
              "      <th>ps_calc_04</th>\n",
              "      <td>input</td>\n",
              "      <td>ordinal</td>\n",
              "      <td>True</td>\n",
              "      <td>int64</td>\n",
              "    </tr>\n",
              "    <tr>\n",
              "      <th>ps_calc_05</th>\n",
              "      <td>input</td>\n",
              "      <td>ordinal</td>\n",
              "      <td>True</td>\n",
              "      <td>int64</td>\n",
              "    </tr>\n",
              "    <tr>\n",
              "      <th>ps_calc_06</th>\n",
              "      <td>input</td>\n",
              "      <td>ordinal</td>\n",
              "      <td>True</td>\n",
              "      <td>int64</td>\n",
              "    </tr>\n",
              "    <tr>\n",
              "      <th>ps_calc_07</th>\n",
              "      <td>input</td>\n",
              "      <td>ordinal</td>\n",
              "      <td>True</td>\n",
              "      <td>int64</td>\n",
              "    </tr>\n",
              "    <tr>\n",
              "      <th>ps_calc_08</th>\n",
              "      <td>input</td>\n",
              "      <td>ordinal</td>\n",
              "      <td>True</td>\n",
              "      <td>int64</td>\n",
              "    </tr>\n",
              "    <tr>\n",
              "      <th>ps_calc_09</th>\n",
              "      <td>input</td>\n",
              "      <td>ordinal</td>\n",
              "      <td>True</td>\n",
              "      <td>int64</td>\n",
              "    </tr>\n",
              "    <tr>\n",
              "      <th>ps_calc_10</th>\n",
              "      <td>input</td>\n",
              "      <td>ordinal</td>\n",
              "      <td>True</td>\n",
              "      <td>int64</td>\n",
              "    </tr>\n",
              "    <tr>\n",
              "      <th>ps_calc_11</th>\n",
              "      <td>input</td>\n",
              "      <td>ordinal</td>\n",
              "      <td>True</td>\n",
              "      <td>int64</td>\n",
              "    </tr>\n",
              "    <tr>\n",
              "      <th>ps_calc_12</th>\n",
              "      <td>input</td>\n",
              "      <td>ordinal</td>\n",
              "      <td>True</td>\n",
              "      <td>int64</td>\n",
              "    </tr>\n",
              "    <tr>\n",
              "      <th>ps_calc_13</th>\n",
              "      <td>input</td>\n",
              "      <td>ordinal</td>\n",
              "      <td>True</td>\n",
              "      <td>int64</td>\n",
              "    </tr>\n",
              "    <tr>\n",
              "      <th>ps_calc_14</th>\n",
              "      <td>input</td>\n",
              "      <td>ordinal</td>\n",
              "      <td>True</td>\n",
              "      <td>int64</td>\n",
              "    </tr>\n",
              "    <tr>\n",
              "      <th>ps_calc_15_bin</th>\n",
              "      <td>input</td>\n",
              "      <td>binary</td>\n",
              "      <td>True</td>\n",
              "      <td>int64</td>\n",
              "    </tr>\n",
              "    <tr>\n",
              "      <th>ps_calc_16_bin</th>\n",
              "      <td>input</td>\n",
              "      <td>binary</td>\n",
              "      <td>True</td>\n",
              "      <td>int64</td>\n",
              "    </tr>\n",
              "    <tr>\n",
              "      <th>ps_calc_17_bin</th>\n",
              "      <td>input</td>\n",
              "      <td>binary</td>\n",
              "      <td>True</td>\n",
              "      <td>int64</td>\n",
              "    </tr>\n",
              "    <tr>\n",
              "      <th>ps_calc_18_bin</th>\n",
              "      <td>input</td>\n",
              "      <td>binary</td>\n",
              "      <td>True</td>\n",
              "      <td>int64</td>\n",
              "    </tr>\n",
              "    <tr>\n",
              "      <th>ps_calc_19_bin</th>\n",
              "      <td>input</td>\n",
              "      <td>binary</td>\n",
              "      <td>True</td>\n",
              "      <td>int64</td>\n",
              "    </tr>\n",
              "    <tr>\n",
              "      <th>ps_calc_20_bin</th>\n",
              "      <td>input</td>\n",
              "      <td>binary</td>\n",
              "      <td>True</td>\n",
              "      <td>int64</td>\n",
              "    </tr>\n",
              "  </tbody>\n",
              "</table>\n",
              "</div>"
            ],
            "text/plain": [
              "                  role     level   keep    dtype\n",
              "varname                                         \n",
              "id                  id   nominal  False    int64\n",
              "target          target    binary   True    int64\n",
              "ps_ind_01        input   ordinal   True    int64\n",
              "ps_ind_02_cat    input   nominal   True    int64\n",
              "ps_ind_03        input   ordinal   True    int64\n",
              "ps_ind_04_cat    input   nominal   True    int64\n",
              "ps_ind_05_cat    input   nominal   True    int64\n",
              "ps_ind_06_bin    input    binary   True    int64\n",
              "ps_ind_07_bin    input    binary   True    int64\n",
              "ps_ind_08_bin    input    binary   True    int64\n",
              "ps_ind_09_bin    input    binary   True    int64\n",
              "ps_ind_10_bin    input    binary   True    int64\n",
              "ps_ind_11_bin    input    binary   True    int64\n",
              "ps_ind_12_bin    input    binary   True    int64\n",
              "ps_ind_13_bin    input    binary   True    int64\n",
              "ps_ind_14        input   ordinal   True    int64\n",
              "ps_ind_15        input   ordinal   True    int64\n",
              "ps_ind_16_bin    input    binary   True    int64\n",
              "ps_ind_17_bin    input    binary   True    int64\n",
              "ps_ind_18_bin    input    binary   True    int64\n",
              "ps_reg_01        input  interval   True  float64\n",
              "ps_reg_02        input  interval   True  float64\n",
              "ps_reg_03        input  interval   True  float64\n",
              "ps_car_01_cat    input   nominal   True    int64\n",
              "ps_car_02_cat    input   nominal   True    int64\n",
              "ps_car_03_cat    input   nominal   True    int64\n",
              "ps_car_04_cat    input   nominal   True    int64\n",
              "ps_car_05_cat    input   nominal   True    int64\n",
              "ps_car_06_cat    input   nominal   True    int64\n",
              "ps_car_07_cat    input   nominal   True    int64\n",
              "ps_car_08_cat    input   nominal   True    int64\n",
              "ps_car_09_cat    input   nominal   True    int64\n",
              "ps_car_10_cat    input   nominal   True    int64\n",
              "ps_car_11_cat    input   nominal   True    int64\n",
              "ps_car_11        input   ordinal   True    int64\n",
              "ps_car_12        input  interval   True  float64\n",
              "ps_car_13        input  interval   True  float64\n",
              "ps_car_14        input  interval   True  float64\n",
              "ps_car_15        input  interval   True  float64\n",
              "ps_calc_01       input  interval   True  float64\n",
              "ps_calc_02       input  interval   True  float64\n",
              "ps_calc_03       input  interval   True  float64\n",
              "ps_calc_04       input   ordinal   True    int64\n",
              "ps_calc_05       input   ordinal   True    int64\n",
              "ps_calc_06       input   ordinal   True    int64\n",
              "ps_calc_07       input   ordinal   True    int64\n",
              "ps_calc_08       input   ordinal   True    int64\n",
              "ps_calc_09       input   ordinal   True    int64\n",
              "ps_calc_10       input   ordinal   True    int64\n",
              "ps_calc_11       input   ordinal   True    int64\n",
              "ps_calc_12       input   ordinal   True    int64\n",
              "ps_calc_13       input   ordinal   True    int64\n",
              "ps_calc_14       input   ordinal   True    int64\n",
              "ps_calc_15_bin   input    binary   True    int64\n",
              "ps_calc_16_bin   input    binary   True    int64\n",
              "ps_calc_17_bin   input    binary   True    int64\n",
              "ps_calc_18_bin   input    binary   True    int64\n",
              "ps_calc_19_bin   input    binary   True    int64\n",
              "ps_calc_20_bin   input    binary   True    int64"
            ]
          },
          "metadata": {
            "tags": []
          },
          "execution_count": 11
        }
      ]
    },
    {
      "cell_type": "markdown",
      "metadata": {
        "id": "b4Q0S5RyPw7s"
      },
      "source": [
        "Example to extract all nominal variables that are not dropped"
      ]
    },
    {
      "cell_type": "code",
      "metadata": {
        "id": "_txH1kJhyp9_",
        "outputId": "9faded84-3f78-4c7b-c626-ddf1181fbbce",
        "colab": {
          "base_uri": "https://localhost:8080/",
          "height": 102
        }
      },
      "source": [
        "meta[(meta.level == 'nominal') & (meta.keep)].index"
      ],
      "execution_count": 13,
      "outputs": [
        {
          "output_type": "execute_result",
          "data": {
            "text/plain": [
              "Index(['ps_ind_02_cat', 'ps_ind_04_cat', 'ps_ind_05_cat', 'ps_car_01_cat',\n",
              "       'ps_car_02_cat', 'ps_car_03_cat', 'ps_car_04_cat', 'ps_car_05_cat',\n",
              "       'ps_car_06_cat', 'ps_car_07_cat', 'ps_car_08_cat', 'ps_car_09_cat',\n",
              "       'ps_car_10_cat', 'ps_car_11_cat'],\n",
              "      dtype='object', name='varname')"
            ]
          },
          "metadata": {
            "tags": []
          },
          "execution_count": 13
        }
      ]
    },
    {
      "cell_type": "markdown",
      "metadata": {
        "id": "eV2LZN0SP3Ra"
      },
      "source": [
        "Below the number of variables per role and level are displayed."
      ]
    },
    {
      "cell_type": "code",
      "metadata": {
        "id": "bi44gOx6zMNS",
        "outputId": "82e05159-8d5e-4b98-ae3e-538f3fef9033",
        "colab": {
          "base_uri": "https://localhost:8080/",
          "height": 235
        }
      },
      "source": [
        "pd.DataFrame({'count' : meta.groupby(['role', 'level'])['role'].size()}).reset_index()"
      ],
      "execution_count": 14,
      "outputs": [
        {
          "output_type": "execute_result",
          "data": {
            "text/html": [
              "<div>\n",
              "<style scoped>\n",
              "    .dataframe tbody tr th:only-of-type {\n",
              "        vertical-align: middle;\n",
              "    }\n",
              "\n",
              "    .dataframe tbody tr th {\n",
              "        vertical-align: top;\n",
              "    }\n",
              "\n",
              "    .dataframe thead th {\n",
              "        text-align: right;\n",
              "    }\n",
              "</style>\n",
              "<table border=\"1\" class=\"dataframe\">\n",
              "  <thead>\n",
              "    <tr style=\"text-align: right;\">\n",
              "      <th></th>\n",
              "      <th>role</th>\n",
              "      <th>level</th>\n",
              "      <th>count</th>\n",
              "    </tr>\n",
              "  </thead>\n",
              "  <tbody>\n",
              "    <tr>\n",
              "      <th>0</th>\n",
              "      <td>id</td>\n",
              "      <td>nominal</td>\n",
              "      <td>1</td>\n",
              "    </tr>\n",
              "    <tr>\n",
              "      <th>1</th>\n",
              "      <td>input</td>\n",
              "      <td>binary</td>\n",
              "      <td>17</td>\n",
              "    </tr>\n",
              "    <tr>\n",
              "      <th>2</th>\n",
              "      <td>input</td>\n",
              "      <td>interval</td>\n",
              "      <td>10</td>\n",
              "    </tr>\n",
              "    <tr>\n",
              "      <th>3</th>\n",
              "      <td>input</td>\n",
              "      <td>nominal</td>\n",
              "      <td>14</td>\n",
              "    </tr>\n",
              "    <tr>\n",
              "      <th>4</th>\n",
              "      <td>input</td>\n",
              "      <td>ordinal</td>\n",
              "      <td>16</td>\n",
              "    </tr>\n",
              "    <tr>\n",
              "      <th>5</th>\n",
              "      <td>target</td>\n",
              "      <td>binary</td>\n",
              "      <td>1</td>\n",
              "    </tr>\n",
              "  </tbody>\n",
              "</table>\n",
              "</div>"
            ],
            "text/plain": [
              "     role     level  count\n",
              "0      id   nominal      1\n",
              "1   input    binary     17\n",
              "2   input  interval     10\n",
              "3   input   nominal     14\n",
              "4   input   ordinal     16\n",
              "5  target    binary      1"
            ]
          },
          "metadata": {
            "tags": []
          },
          "execution_count": 14
        }
      ]
    },
    {
      "cell_type": "markdown",
      "metadata": {
        "id": "FmoDNKq8QBid"
      },
      "source": [
        "**Descriptive statistics**\n",
        "We can also apply the describe method on the dataframe. However, it doesn't make much sense to calculate the mean, std, ... on categorical variables and the id variable. We'll explore the categorical variables visually later."
      ]
    },
    {
      "cell_type": "markdown",
      "metadata": {
        "id": "nWvxCL8lQPEL"
      },
      "source": [
        "**Interval variables**\n"
      ]
    },
    {
      "cell_type": "code",
      "metadata": {
        "id": "ObpODExtQZBb",
        "outputId": "99069eaa-6973-4ec2-d53c-c4120be74e69",
        "colab": {
          "base_uri": "https://localhost:8080/",
          "height": 317
        }
      },
      "source": [
        "v = meta[(meta.level == 'interval') & (meta.keep)].index\n",
        "train[v].describe()"
      ],
      "execution_count": 15,
      "outputs": [
        {
          "output_type": "execute_result",
          "data": {
            "text/html": [
              "<div>\n",
              "<style scoped>\n",
              "    .dataframe tbody tr th:only-of-type {\n",
              "        vertical-align: middle;\n",
              "    }\n",
              "\n",
              "    .dataframe tbody tr th {\n",
              "        vertical-align: top;\n",
              "    }\n",
              "\n",
              "    .dataframe thead th {\n",
              "        text-align: right;\n",
              "    }\n",
              "</style>\n",
              "<table border=\"1\" class=\"dataframe\">\n",
              "  <thead>\n",
              "    <tr style=\"text-align: right;\">\n",
              "      <th></th>\n",
              "      <th>ps_reg_01</th>\n",
              "      <th>ps_reg_02</th>\n",
              "      <th>ps_reg_03</th>\n",
              "      <th>ps_car_12</th>\n",
              "      <th>ps_car_13</th>\n",
              "      <th>ps_car_14</th>\n",
              "      <th>ps_car_15</th>\n",
              "      <th>ps_calc_01</th>\n",
              "      <th>ps_calc_02</th>\n",
              "      <th>ps_calc_03</th>\n",
              "    </tr>\n",
              "  </thead>\n",
              "  <tbody>\n",
              "    <tr>\n",
              "      <th>count</th>\n",
              "      <td>595212.000000</td>\n",
              "      <td>595212.000000</td>\n",
              "      <td>595212.000000</td>\n",
              "      <td>595212.000000</td>\n",
              "      <td>595212.000000</td>\n",
              "      <td>595212.000000</td>\n",
              "      <td>595212.000000</td>\n",
              "      <td>595212.000000</td>\n",
              "      <td>595212.000000</td>\n",
              "      <td>595212.000000</td>\n",
              "    </tr>\n",
              "    <tr>\n",
              "      <th>mean</th>\n",
              "      <td>0.610991</td>\n",
              "      <td>0.439184</td>\n",
              "      <td>0.551102</td>\n",
              "      <td>0.379945</td>\n",
              "      <td>0.813265</td>\n",
              "      <td>0.276256</td>\n",
              "      <td>3.065899</td>\n",
              "      <td>0.449756</td>\n",
              "      <td>0.449589</td>\n",
              "      <td>0.449849</td>\n",
              "    </tr>\n",
              "    <tr>\n",
              "      <th>std</th>\n",
              "      <td>0.287643</td>\n",
              "      <td>0.404264</td>\n",
              "      <td>0.793506</td>\n",
              "      <td>0.058327</td>\n",
              "      <td>0.224588</td>\n",
              "      <td>0.357154</td>\n",
              "      <td>0.731366</td>\n",
              "      <td>0.287198</td>\n",
              "      <td>0.286893</td>\n",
              "      <td>0.287153</td>\n",
              "    </tr>\n",
              "    <tr>\n",
              "      <th>min</th>\n",
              "      <td>0.000000</td>\n",
              "      <td>0.000000</td>\n",
              "      <td>-1.000000</td>\n",
              "      <td>-1.000000</td>\n",
              "      <td>0.250619</td>\n",
              "      <td>-1.000000</td>\n",
              "      <td>0.000000</td>\n",
              "      <td>0.000000</td>\n",
              "      <td>0.000000</td>\n",
              "      <td>0.000000</td>\n",
              "    </tr>\n",
              "    <tr>\n",
              "      <th>25%</th>\n",
              "      <td>0.400000</td>\n",
              "      <td>0.200000</td>\n",
              "      <td>0.525000</td>\n",
              "      <td>0.316228</td>\n",
              "      <td>0.670867</td>\n",
              "      <td>0.333167</td>\n",
              "      <td>2.828427</td>\n",
              "      <td>0.200000</td>\n",
              "      <td>0.200000</td>\n",
              "      <td>0.200000</td>\n",
              "    </tr>\n",
              "    <tr>\n",
              "      <th>50%</th>\n",
              "      <td>0.700000</td>\n",
              "      <td>0.300000</td>\n",
              "      <td>0.720677</td>\n",
              "      <td>0.374166</td>\n",
              "      <td>0.765811</td>\n",
              "      <td>0.368782</td>\n",
              "      <td>3.316625</td>\n",
              "      <td>0.500000</td>\n",
              "      <td>0.400000</td>\n",
              "      <td>0.500000</td>\n",
              "    </tr>\n",
              "    <tr>\n",
              "      <th>75%</th>\n",
              "      <td>0.900000</td>\n",
              "      <td>0.600000</td>\n",
              "      <td>1.000000</td>\n",
              "      <td>0.400000</td>\n",
              "      <td>0.906190</td>\n",
              "      <td>0.396485</td>\n",
              "      <td>3.605551</td>\n",
              "      <td>0.700000</td>\n",
              "      <td>0.700000</td>\n",
              "      <td>0.700000</td>\n",
              "    </tr>\n",
              "    <tr>\n",
              "      <th>max</th>\n",
              "      <td>0.900000</td>\n",
              "      <td>1.800000</td>\n",
              "      <td>4.037945</td>\n",
              "      <td>1.264911</td>\n",
              "      <td>3.720626</td>\n",
              "      <td>0.636396</td>\n",
              "      <td>3.741657</td>\n",
              "      <td>0.900000</td>\n",
              "      <td>0.900000</td>\n",
              "      <td>0.900000</td>\n",
              "    </tr>\n",
              "  </tbody>\n",
              "</table>\n",
              "</div>"
            ],
            "text/plain": [
              "           ps_reg_01      ps_reg_02  ...     ps_calc_02     ps_calc_03\n",
              "count  595212.000000  595212.000000  ...  595212.000000  595212.000000\n",
              "mean        0.610991       0.439184  ...       0.449589       0.449849\n",
              "std         0.287643       0.404264  ...       0.286893       0.287153\n",
              "min         0.000000       0.000000  ...       0.000000       0.000000\n",
              "25%         0.400000       0.200000  ...       0.200000       0.200000\n",
              "50%         0.700000       0.300000  ...       0.400000       0.500000\n",
              "75%         0.900000       0.600000  ...       0.700000       0.700000\n",
              "max         0.900000       1.800000  ...       0.900000       0.900000\n",
              "\n",
              "[8 rows x 10 columns]"
            ]
          },
          "metadata": {
            "tags": []
          },
          "execution_count": 15
        }
      ]
    },
    {
      "cell_type": "markdown",
      "metadata": {
        "id": "CRB4OhtlQiAr"
      },
      "source": [
        "**reg variables**\n",
        "only ps_reg_03 has missing values\n",
        "the range (min to max) differs between the variables. We could apply scaling (e.g. StandardScaler), but it depends on the classifier we will want to use."
      ]
    },
    {
      "cell_type": "markdown",
      "metadata": {
        "id": "YZMcZn42QoEw"
      },
      "source": [
        "**car variables**\n",
        "ps_car_12 and ps_car_14 have missing values\n",
        "again, the range differs and we could apply scaling."
      ]
    },
    {
      "cell_type": "markdown",
      "metadata": {
        "id": "oxQW9D35QtcR"
      },
      "source": [
        "**calc variables**\n",
        "no missing values\n",
        "this seems to be some kind of ratio as the maximum is 0.9\n",
        "all three _calc variables have very similar distributions"
      ]
    },
    {
      "cell_type": "markdown",
      "metadata": {
        "id": "Jg03vQeAQ_Ra"
      },
      "source": [
        "**Ordinal variables**"
      ]
    },
    {
      "cell_type": "code",
      "metadata": {
        "id": "rs_9cUQnRB6W",
        "outputId": "747a3e3e-6948-47b4-a85d-e3ec5f4f1fc9",
        "colab": {
          "base_uri": "https://localhost:8080/",
          "height": 317
        }
      },
      "source": [
        "v = meta[(meta.level == 'ordinal') & (meta.keep)].index\n",
        "train[v].describe()"
      ],
      "execution_count": 16,
      "outputs": [
        {
          "output_type": "execute_result",
          "data": {
            "text/html": [
              "<div>\n",
              "<style scoped>\n",
              "    .dataframe tbody tr th:only-of-type {\n",
              "        vertical-align: middle;\n",
              "    }\n",
              "\n",
              "    .dataframe tbody tr th {\n",
              "        vertical-align: top;\n",
              "    }\n",
              "\n",
              "    .dataframe thead th {\n",
              "        text-align: right;\n",
              "    }\n",
              "</style>\n",
              "<table border=\"1\" class=\"dataframe\">\n",
              "  <thead>\n",
              "    <tr style=\"text-align: right;\">\n",
              "      <th></th>\n",
              "      <th>ps_ind_01</th>\n",
              "      <th>ps_ind_03</th>\n",
              "      <th>ps_ind_14</th>\n",
              "      <th>ps_ind_15</th>\n",
              "      <th>ps_car_11</th>\n",
              "      <th>ps_calc_04</th>\n",
              "      <th>ps_calc_05</th>\n",
              "      <th>ps_calc_06</th>\n",
              "      <th>ps_calc_07</th>\n",
              "      <th>ps_calc_08</th>\n",
              "      <th>ps_calc_09</th>\n",
              "      <th>ps_calc_10</th>\n",
              "      <th>ps_calc_11</th>\n",
              "      <th>ps_calc_12</th>\n",
              "      <th>ps_calc_13</th>\n",
              "      <th>ps_calc_14</th>\n",
              "    </tr>\n",
              "  </thead>\n",
              "  <tbody>\n",
              "    <tr>\n",
              "      <th>count</th>\n",
              "      <td>595212.000000</td>\n",
              "      <td>595212.000000</td>\n",
              "      <td>595212.000000</td>\n",
              "      <td>595212.000000</td>\n",
              "      <td>595212.000000</td>\n",
              "      <td>595212.000000</td>\n",
              "      <td>595212.000000</td>\n",
              "      <td>595212.000000</td>\n",
              "      <td>595212.000000</td>\n",
              "      <td>595212.000000</td>\n",
              "      <td>595212.000000</td>\n",
              "      <td>595212.000000</td>\n",
              "      <td>595212.000000</td>\n",
              "      <td>595212.000000</td>\n",
              "      <td>595212.000000</td>\n",
              "      <td>595212.000000</td>\n",
              "    </tr>\n",
              "    <tr>\n",
              "      <th>mean</th>\n",
              "      <td>1.900378</td>\n",
              "      <td>4.423318</td>\n",
              "      <td>0.012451</td>\n",
              "      <td>7.299922</td>\n",
              "      <td>2.346072</td>\n",
              "      <td>2.372081</td>\n",
              "      <td>1.885886</td>\n",
              "      <td>7.689445</td>\n",
              "      <td>3.005823</td>\n",
              "      <td>9.225904</td>\n",
              "      <td>2.339034</td>\n",
              "      <td>8.433590</td>\n",
              "      <td>5.441382</td>\n",
              "      <td>1.441918</td>\n",
              "      <td>2.872288</td>\n",
              "      <td>7.539026</td>\n",
              "    </tr>\n",
              "    <tr>\n",
              "      <th>std</th>\n",
              "      <td>1.983789</td>\n",
              "      <td>2.699902</td>\n",
              "      <td>0.127545</td>\n",
              "      <td>3.546042</td>\n",
              "      <td>0.832548</td>\n",
              "      <td>1.117219</td>\n",
              "      <td>1.134927</td>\n",
              "      <td>1.334312</td>\n",
              "      <td>1.414564</td>\n",
              "      <td>1.459672</td>\n",
              "      <td>1.246949</td>\n",
              "      <td>2.904597</td>\n",
              "      <td>2.332871</td>\n",
              "      <td>1.202963</td>\n",
              "      <td>1.694887</td>\n",
              "      <td>2.746652</td>\n",
              "    </tr>\n",
              "    <tr>\n",
              "      <th>min</th>\n",
              "      <td>0.000000</td>\n",
              "      <td>0.000000</td>\n",
              "      <td>0.000000</td>\n",
              "      <td>0.000000</td>\n",
              "      <td>-1.000000</td>\n",
              "      <td>0.000000</td>\n",
              "      <td>0.000000</td>\n",
              "      <td>0.000000</td>\n",
              "      <td>0.000000</td>\n",
              "      <td>2.000000</td>\n",
              "      <td>0.000000</td>\n",
              "      <td>0.000000</td>\n",
              "      <td>0.000000</td>\n",
              "      <td>0.000000</td>\n",
              "      <td>0.000000</td>\n",
              "      <td>0.000000</td>\n",
              "    </tr>\n",
              "    <tr>\n",
              "      <th>25%</th>\n",
              "      <td>0.000000</td>\n",
              "      <td>2.000000</td>\n",
              "      <td>0.000000</td>\n",
              "      <td>5.000000</td>\n",
              "      <td>2.000000</td>\n",
              "      <td>2.000000</td>\n",
              "      <td>1.000000</td>\n",
              "      <td>7.000000</td>\n",
              "      <td>2.000000</td>\n",
              "      <td>8.000000</td>\n",
              "      <td>1.000000</td>\n",
              "      <td>6.000000</td>\n",
              "      <td>4.000000</td>\n",
              "      <td>1.000000</td>\n",
              "      <td>2.000000</td>\n",
              "      <td>6.000000</td>\n",
              "    </tr>\n",
              "    <tr>\n",
              "      <th>50%</th>\n",
              "      <td>1.000000</td>\n",
              "      <td>4.000000</td>\n",
              "      <td>0.000000</td>\n",
              "      <td>7.000000</td>\n",
              "      <td>3.000000</td>\n",
              "      <td>2.000000</td>\n",
              "      <td>2.000000</td>\n",
              "      <td>8.000000</td>\n",
              "      <td>3.000000</td>\n",
              "      <td>9.000000</td>\n",
              "      <td>2.000000</td>\n",
              "      <td>8.000000</td>\n",
              "      <td>5.000000</td>\n",
              "      <td>1.000000</td>\n",
              "      <td>3.000000</td>\n",
              "      <td>7.000000</td>\n",
              "    </tr>\n",
              "    <tr>\n",
              "      <th>75%</th>\n",
              "      <td>3.000000</td>\n",
              "      <td>6.000000</td>\n",
              "      <td>0.000000</td>\n",
              "      <td>10.000000</td>\n",
              "      <td>3.000000</td>\n",
              "      <td>3.000000</td>\n",
              "      <td>3.000000</td>\n",
              "      <td>9.000000</td>\n",
              "      <td>4.000000</td>\n",
              "      <td>10.000000</td>\n",
              "      <td>3.000000</td>\n",
              "      <td>10.000000</td>\n",
              "      <td>7.000000</td>\n",
              "      <td>2.000000</td>\n",
              "      <td>4.000000</td>\n",
              "      <td>9.000000</td>\n",
              "    </tr>\n",
              "    <tr>\n",
              "      <th>max</th>\n",
              "      <td>7.000000</td>\n",
              "      <td>11.000000</td>\n",
              "      <td>4.000000</td>\n",
              "      <td>13.000000</td>\n",
              "      <td>3.000000</td>\n",
              "      <td>5.000000</td>\n",
              "      <td>6.000000</td>\n",
              "      <td>10.000000</td>\n",
              "      <td>9.000000</td>\n",
              "      <td>12.000000</td>\n",
              "      <td>7.000000</td>\n",
              "      <td>25.000000</td>\n",
              "      <td>19.000000</td>\n",
              "      <td>10.000000</td>\n",
              "      <td>13.000000</td>\n",
              "      <td>23.000000</td>\n",
              "    </tr>\n",
              "  </tbody>\n",
              "</table>\n",
              "</div>"
            ],
            "text/plain": [
              "           ps_ind_01      ps_ind_03  ...     ps_calc_13     ps_calc_14\n",
              "count  595212.000000  595212.000000  ...  595212.000000  595212.000000\n",
              "mean        1.900378       4.423318  ...       2.872288       7.539026\n",
              "std         1.983789       2.699902  ...       1.694887       2.746652\n",
              "min         0.000000       0.000000  ...       0.000000       0.000000\n",
              "25%         0.000000       2.000000  ...       2.000000       6.000000\n",
              "50%         1.000000       4.000000  ...       3.000000       7.000000\n",
              "75%         3.000000       6.000000  ...       4.000000       9.000000\n",
              "max         7.000000      11.000000  ...      13.000000      23.000000\n",
              "\n",
              "[8 rows x 16 columns]"
            ]
          },
          "metadata": {
            "tags": []
          },
          "execution_count": 16
        }
      ]
    },
    {
      "cell_type": "markdown",
      "metadata": {
        "id": "ngImsSy2RJbL"
      },
      "source": [
        "\n",
        "\n",
        "*   Only one missing variable: ps_car_11\n",
        "*   We could apply scaling to deal with the different ranges\n"
      ]
    },
    {
      "cell_type": "markdown",
      "metadata": {
        "id": "YAKtSs8lRg-d"
      },
      "source": [
        "**Binary variables**"
      ]
    },
    {
      "cell_type": "code",
      "metadata": {
        "id": "u22vkL9sRmiF",
        "outputId": "fb56dc49-f960-4a91-b446-c2397295c96e",
        "colab": {
          "base_uri": "https://localhost:8080/",
          "height": 317
        }
      },
      "source": [
        "v = meta[(meta.level == 'binary') & (meta.keep)].index\n",
        "train[v].describe()"
      ],
      "execution_count": 17,
      "outputs": [
        {
          "output_type": "execute_result",
          "data": {
            "text/html": [
              "<div>\n",
              "<style scoped>\n",
              "    .dataframe tbody tr th:only-of-type {\n",
              "        vertical-align: middle;\n",
              "    }\n",
              "\n",
              "    .dataframe tbody tr th {\n",
              "        vertical-align: top;\n",
              "    }\n",
              "\n",
              "    .dataframe thead th {\n",
              "        text-align: right;\n",
              "    }\n",
              "</style>\n",
              "<table border=\"1\" class=\"dataframe\">\n",
              "  <thead>\n",
              "    <tr style=\"text-align: right;\">\n",
              "      <th></th>\n",
              "      <th>target</th>\n",
              "      <th>ps_ind_06_bin</th>\n",
              "      <th>ps_ind_07_bin</th>\n",
              "      <th>ps_ind_08_bin</th>\n",
              "      <th>ps_ind_09_bin</th>\n",
              "      <th>ps_ind_10_bin</th>\n",
              "      <th>ps_ind_11_bin</th>\n",
              "      <th>ps_ind_12_bin</th>\n",
              "      <th>ps_ind_13_bin</th>\n",
              "      <th>ps_ind_16_bin</th>\n",
              "      <th>ps_ind_17_bin</th>\n",
              "      <th>ps_ind_18_bin</th>\n",
              "      <th>ps_calc_15_bin</th>\n",
              "      <th>ps_calc_16_bin</th>\n",
              "      <th>ps_calc_17_bin</th>\n",
              "      <th>ps_calc_18_bin</th>\n",
              "      <th>ps_calc_19_bin</th>\n",
              "      <th>ps_calc_20_bin</th>\n",
              "    </tr>\n",
              "  </thead>\n",
              "  <tbody>\n",
              "    <tr>\n",
              "      <th>count</th>\n",
              "      <td>595212.000000</td>\n",
              "      <td>595212.000000</td>\n",
              "      <td>595212.000000</td>\n",
              "      <td>595212.000000</td>\n",
              "      <td>595212.000000</td>\n",
              "      <td>595212.000000</td>\n",
              "      <td>595212.000000</td>\n",
              "      <td>595212.000000</td>\n",
              "      <td>595212.000000</td>\n",
              "      <td>595212.000000</td>\n",
              "      <td>595212.000000</td>\n",
              "      <td>595212.000000</td>\n",
              "      <td>595212.000000</td>\n",
              "      <td>595212.000000</td>\n",
              "      <td>595212.000000</td>\n",
              "      <td>595212.000000</td>\n",
              "      <td>595212.000000</td>\n",
              "      <td>595212.000000</td>\n",
              "    </tr>\n",
              "    <tr>\n",
              "      <th>mean</th>\n",
              "      <td>0.036448</td>\n",
              "      <td>0.393742</td>\n",
              "      <td>0.257033</td>\n",
              "      <td>0.163921</td>\n",
              "      <td>0.185304</td>\n",
              "      <td>0.000373</td>\n",
              "      <td>0.001692</td>\n",
              "      <td>0.009439</td>\n",
              "      <td>0.000948</td>\n",
              "      <td>0.660823</td>\n",
              "      <td>0.121081</td>\n",
              "      <td>0.153446</td>\n",
              "      <td>0.122427</td>\n",
              "      <td>0.627840</td>\n",
              "      <td>0.554182</td>\n",
              "      <td>0.287182</td>\n",
              "      <td>0.349024</td>\n",
              "      <td>0.153318</td>\n",
              "    </tr>\n",
              "    <tr>\n",
              "      <th>std</th>\n",
              "      <td>0.187401</td>\n",
              "      <td>0.488579</td>\n",
              "      <td>0.436998</td>\n",
              "      <td>0.370205</td>\n",
              "      <td>0.388544</td>\n",
              "      <td>0.019309</td>\n",
              "      <td>0.041097</td>\n",
              "      <td>0.096693</td>\n",
              "      <td>0.030768</td>\n",
              "      <td>0.473430</td>\n",
              "      <td>0.326222</td>\n",
              "      <td>0.360417</td>\n",
              "      <td>0.327779</td>\n",
              "      <td>0.483381</td>\n",
              "      <td>0.497056</td>\n",
              "      <td>0.452447</td>\n",
              "      <td>0.476662</td>\n",
              "      <td>0.360295</td>\n",
              "    </tr>\n",
              "    <tr>\n",
              "      <th>min</th>\n",
              "      <td>0.000000</td>\n",
              "      <td>0.000000</td>\n",
              "      <td>0.000000</td>\n",
              "      <td>0.000000</td>\n",
              "      <td>0.000000</td>\n",
              "      <td>0.000000</td>\n",
              "      <td>0.000000</td>\n",
              "      <td>0.000000</td>\n",
              "      <td>0.000000</td>\n",
              "      <td>0.000000</td>\n",
              "      <td>0.000000</td>\n",
              "      <td>0.000000</td>\n",
              "      <td>0.000000</td>\n",
              "      <td>0.000000</td>\n",
              "      <td>0.000000</td>\n",
              "      <td>0.000000</td>\n",
              "      <td>0.000000</td>\n",
              "      <td>0.000000</td>\n",
              "    </tr>\n",
              "    <tr>\n",
              "      <th>25%</th>\n",
              "      <td>0.000000</td>\n",
              "      <td>0.000000</td>\n",
              "      <td>0.000000</td>\n",
              "      <td>0.000000</td>\n",
              "      <td>0.000000</td>\n",
              "      <td>0.000000</td>\n",
              "      <td>0.000000</td>\n",
              "      <td>0.000000</td>\n",
              "      <td>0.000000</td>\n",
              "      <td>0.000000</td>\n",
              "      <td>0.000000</td>\n",
              "      <td>0.000000</td>\n",
              "      <td>0.000000</td>\n",
              "      <td>0.000000</td>\n",
              "      <td>0.000000</td>\n",
              "      <td>0.000000</td>\n",
              "      <td>0.000000</td>\n",
              "      <td>0.000000</td>\n",
              "    </tr>\n",
              "    <tr>\n",
              "      <th>50%</th>\n",
              "      <td>0.000000</td>\n",
              "      <td>0.000000</td>\n",
              "      <td>0.000000</td>\n",
              "      <td>0.000000</td>\n",
              "      <td>0.000000</td>\n",
              "      <td>0.000000</td>\n",
              "      <td>0.000000</td>\n",
              "      <td>0.000000</td>\n",
              "      <td>0.000000</td>\n",
              "      <td>1.000000</td>\n",
              "      <td>0.000000</td>\n",
              "      <td>0.000000</td>\n",
              "      <td>0.000000</td>\n",
              "      <td>1.000000</td>\n",
              "      <td>1.000000</td>\n",
              "      <td>0.000000</td>\n",
              "      <td>0.000000</td>\n",
              "      <td>0.000000</td>\n",
              "    </tr>\n",
              "    <tr>\n",
              "      <th>75%</th>\n",
              "      <td>0.000000</td>\n",
              "      <td>1.000000</td>\n",
              "      <td>1.000000</td>\n",
              "      <td>0.000000</td>\n",
              "      <td>0.000000</td>\n",
              "      <td>0.000000</td>\n",
              "      <td>0.000000</td>\n",
              "      <td>0.000000</td>\n",
              "      <td>0.000000</td>\n",
              "      <td>1.000000</td>\n",
              "      <td>0.000000</td>\n",
              "      <td>0.000000</td>\n",
              "      <td>0.000000</td>\n",
              "      <td>1.000000</td>\n",
              "      <td>1.000000</td>\n",
              "      <td>1.000000</td>\n",
              "      <td>1.000000</td>\n",
              "      <td>0.000000</td>\n",
              "    </tr>\n",
              "    <tr>\n",
              "      <th>max</th>\n",
              "      <td>1.000000</td>\n",
              "      <td>1.000000</td>\n",
              "      <td>1.000000</td>\n",
              "      <td>1.000000</td>\n",
              "      <td>1.000000</td>\n",
              "      <td>1.000000</td>\n",
              "      <td>1.000000</td>\n",
              "      <td>1.000000</td>\n",
              "      <td>1.000000</td>\n",
              "      <td>1.000000</td>\n",
              "      <td>1.000000</td>\n",
              "      <td>1.000000</td>\n",
              "      <td>1.000000</td>\n",
              "      <td>1.000000</td>\n",
              "      <td>1.000000</td>\n",
              "      <td>1.000000</td>\n",
              "      <td>1.000000</td>\n",
              "      <td>1.000000</td>\n",
              "    </tr>\n",
              "  </tbody>\n",
              "</table>\n",
              "</div>"
            ],
            "text/plain": [
              "              target  ps_ind_06_bin  ...  ps_calc_19_bin  ps_calc_20_bin\n",
              "count  595212.000000  595212.000000  ...   595212.000000   595212.000000\n",
              "mean        0.036448       0.393742  ...        0.349024        0.153318\n",
              "std         0.187401       0.488579  ...        0.476662        0.360295\n",
              "min         0.000000       0.000000  ...        0.000000        0.000000\n",
              "25%         0.000000       0.000000  ...        0.000000        0.000000\n",
              "50%         0.000000       0.000000  ...        0.000000        0.000000\n",
              "75%         0.000000       1.000000  ...        1.000000        0.000000\n",
              "max         1.000000       1.000000  ...        1.000000        1.000000\n",
              "\n",
              "[8 rows x 18 columns]"
            ]
          },
          "metadata": {
            "tags": []
          },
          "execution_count": 17
        }
      ]
    },
    {
      "cell_type": "markdown",
      "metadata": {
        "id": "KCR7f9o1Rq13"
      },
      "source": [
        "*   A priori in the train data is 3.645%, which is strongly imbalanced.\n",
        "*   From the means we can conclude that for most variables the value is zero in most cases.\n"
      ]
    },
    {
      "cell_type": "markdown",
      "metadata": {
        "id": "F5oqUYIFR2tx"
      },
      "source": [
        "**Handling imbalanced classes**\n",
        "As we mentioned above the proportion of records with target=1 is far less than target=0. This can lead to a model that has great accuracy but does have any added value in practice. Two possible strategies to deal with this problem are:\n",
        "\n",
        "oversampling records with target=1\n",
        "undersampling records with target=0."
      ]
    },
    {
      "cell_type": "code",
      "metadata": {
        "id": "lyj-VFXfSDzf",
        "outputId": "ed208086-6643-4b05-8277-bab9258770a4",
        "colab": {
          "base_uri": "https://localhost:8080/",
          "height": 51
        }
      },
      "source": [
        "from sklearn.preprocessing import PolynomialFeatures\n",
        "from sklearn.preprocessing import StandardScaler\n",
        "from sklearn.feature_selection import VarianceThreshold\n",
        "from sklearn.feature_selection import SelectFromModel\n",
        "from sklearn.utils import shuffle\n",
        "from sklearn.ensemble import RandomForestClassifier\n",
        "\n",
        "desired_apriori=0.10\n",
        "\n",
        "# Get the indices per target value\n",
        "idx_0 = train[train.target == 0].index\n",
        "idx_1 = train[train.target == 1].index\n",
        "\n",
        "# Get original number of records per target value\n",
        "nb_0 = len(train.loc[idx_0])\n",
        "nb_1 = len(train.loc[idx_1])\n",
        "\n",
        "# Calculate the undersampling rate and resulting number of records with target=0\n",
        "undersampling_rate = ((1-desired_apriori)*nb_1)/(nb_0*desired_apriori)\n",
        "undersampled_nb_0 = int(undersampling_rate*nb_0)\n",
        "print('Rate to undersample records with target=0: {}'.format(undersampling_rate))\n",
        "print('Number of records with target=0 after undersampling: {}'.format(undersampled_nb_0))\n",
        "\n",
        "# Randomly select records with target=0 to get at the desired a priori\n",
        "undersampled_idx = shuffle(idx_0, random_state=37, n_samples=undersampled_nb_0)\n",
        "\n",
        "# Construct list with remaining indices\n",
        "idx_list = list(undersampled_idx) + list(idx_1)\n",
        "\n",
        "# Return undersample data frame\n",
        "train = train.loc[idx_list].reset_index(drop=True)"
      ],
      "execution_count": 18,
      "outputs": [
        {
          "output_type": "stream",
          "text": [
            "Rate to undersample records with target=0: 0.34043569687437886\n",
            "Number of records with target=0 after undersampling: 195246\n"
          ],
          "name": "stdout"
        }
      ]
    },
    {
      "cell_type": "markdown",
      "metadata": {
        "id": "itHG2TWsSQw4"
      },
      "source": [
        "# **Data Quality Checks**"
      ]
    },
    {
      "cell_type": "markdown",
      "metadata": {
        "id": "_Gs9ZBxsSVfm"
      },
      "source": [
        "**Checking missing values**\n",
        "\n",
        "Missings are represented as -1"
      ]
    },
    {
      "cell_type": "code",
      "metadata": {
        "id": "oo761WXPSgER",
        "outputId": "7a45b40c-f756-4467-cc9d-25673a4cc0c4",
        "colab": {
          "base_uri": "https://localhost:8080/",
          "height": 221
        }
      },
      "source": [
        "vars_with_missing = []\n",
        "\n",
        "for f in train.columns:\n",
        "    missings = train[train[f] == -1][f].count()\n",
        "    if missings > 0:\n",
        "        vars_with_missing.append(f)\n",
        "        missings_perc = missings/train.shape[0]\n",
        "        \n",
        "        print('Variable {} has {} records ({:.2%}) with missing values'.format(f, missings, missings_perc))\n",
        "        \n",
        "print('In total, there are {} variables with missing values'.format(len(vars_with_missing)))"
      ],
      "execution_count": 20,
      "outputs": [
        {
          "output_type": "stream",
          "text": [
            "Variable ps_ind_02_cat has 103 records (0.05%) with missing values\n",
            "Variable ps_ind_04_cat has 51 records (0.02%) with missing values\n",
            "Variable ps_ind_05_cat has 2256 records (1.04%) with missing values\n",
            "Variable ps_reg_03 has 38580 records (17.78%) with missing values\n",
            "Variable ps_car_01_cat has 62 records (0.03%) with missing values\n",
            "Variable ps_car_03_cat has 148367 records (68.39%) with missing values\n",
            "Variable ps_car_05_cat has 96026 records (44.26%) with missing values\n",
            "Variable ps_car_07_cat has 4431 records (2.04%) with missing values\n",
            "Variable ps_car_09_cat has 230 records (0.11%) with missing values\n",
            "Variable ps_car_11 has 1 records (0.00%) with missing values\n",
            "Variable ps_car_14 has 15726 records (7.25%) with missing values\n",
            "In total, there are 11 variables with missing values\n"
          ],
          "name": "stdout"
        }
      ]
    },
    {
      "cell_type": "markdown",
      "metadata": {
        "id": "4C4ZgfVeSn0p"
      },
      "source": [
        "**ps_car_03_cat and ps_car_05_cat** have a large proportion of records with missing values. Remove these variables.\n",
        "For the other categorical variables with missing values, we can leave the missing value -1 as such.\n",
        "\n",
        "**ps_reg_03** (continuous) has missing values for 18% of all records. Replace by the mean.\n",
        "\n",
        "**ps_car_11** (ordinal) has only 5 records with misisng values. Replace by the mode.\n",
        "\n",
        "**ps_car_12** (continuous) has only 1 records with missing value. Replace by the mean.\n",
        "\n",
        "**ps_car_14** (continuous) has missing values for 7% of all records. Replace by the mean."
      ]
    },
    {
      "cell_type": "code",
      "metadata": {
        "id": "tk3wwomvSv1M"
      },
      "source": [
        "from sklearn.impute import SimpleImputer \n",
        "# Dropping the variables with too many missing values\n",
        "vars_to_drop = ['ps_car_03_cat', 'ps_car_05_cat']\n",
        "train.drop(vars_to_drop, inplace=True, axis=1)\n",
        "meta.loc[(vars_to_drop),'keep'] = False  # Updating the meta\n"
      ],
      "execution_count": 21,
      "outputs": []
    },
    {
      "cell_type": "code",
      "metadata": {
        "id": "h6499M6ZFXaV"
      },
      "source": [
        "# Imputing with the mean or mode\n",
        "mean_imp = SimpleImputer(missing_values=-1, strategy='mean')\n",
        "mode_imp = SimpleImputer(missing_values=-1, strategy='most_frequent')\n",
        "train['ps_reg_03'] = mean_imp.fit_transform(train[['ps_reg_03']]).ravel()\n",
        "train['ps_car_12'] = mean_imp.fit_transform(train[['ps_car_12']]).ravel()\n",
        "train['ps_car_14'] = mean_imp.fit_transform(train[['ps_car_14']]).ravel()\n",
        "train['ps_car_11'] = mode_imp.fit_transform(train[['ps_car_11']]).ravel()"
      ],
      "execution_count": 22,
      "outputs": []
    },
    {
      "cell_type": "markdown",
      "metadata": {
        "id": "OfPN-3-4S0Nm"
      },
      "source": [
        "**Checking the cardinality of the categorical variables**\n",
        "\n",
        "Cardinality refers to the number of different values in a variable. As we will create dummy variables from the categorical variables later on, we need to check whether there are variables with many distinct values. We should handle these variables differently as they would result in many dummy variables."
      ]
    },
    {
      "cell_type": "code",
      "metadata": {
        "id": "sZ79zaTrTBBi",
        "outputId": "45ce8385-8cc0-427c-e682-fa03ce7fa4ad",
        "colab": {
          "base_uri": "https://localhost:8080/",
          "height": 221
        }
      },
      "source": [
        "v = meta[(meta.level == 'nominal') & (meta.keep)].index\n",
        "\n",
        "for f in v:\n",
        "    dist_values = train[f].value_counts().shape[0]\n",
        "    print('Variable {} has {} distinct values'.format(f, dist_values))"
      ],
      "execution_count": 23,
      "outputs": [
        {
          "output_type": "stream",
          "text": [
            "Variable ps_ind_02_cat has 5 distinct values\n",
            "Variable ps_ind_04_cat has 3 distinct values\n",
            "Variable ps_ind_05_cat has 8 distinct values\n",
            "Variable ps_car_01_cat has 13 distinct values\n",
            "Variable ps_car_02_cat has 2 distinct values\n",
            "Variable ps_car_04_cat has 10 distinct values\n",
            "Variable ps_car_06_cat has 18 distinct values\n",
            "Variable ps_car_07_cat has 3 distinct values\n",
            "Variable ps_car_08_cat has 2 distinct values\n",
            "Variable ps_car_09_cat has 6 distinct values\n",
            "Variable ps_car_10_cat has 3 distinct values\n",
            "Variable ps_car_11_cat has 104 distinct values\n"
          ],
          "name": "stdout"
        }
      ]
    },
    {
      "cell_type": "markdown",
      "metadata": {
        "id": "6XlF6uQjGgZB"
      },
      "source": [
        "Only **ps_car_11_cat** has many distinct values, although it is still reasonable."
      ]
    },
    {
      "cell_type": "code",
      "metadata": {
        "id": "zEaysuhFIofC"
      },
      "source": [
        "def add_noise(series, noise_level):\n",
        "    return series * (1 + noise_level * np.random.randn(len(series)))\n",
        "\n",
        "def target_encode(trn_series=None, \n",
        "                  target=None, \n",
        "                  min_samples_leaf=1, \n",
        "                  smoothing=1,\n",
        "                  noise_level=0):\n",
        "    \n",
        "    assert len(trn_series) == len(target)\n",
        "    temp = pd.concat([trn_series, target], axis=1)\n",
        "    # Compute target mean \n",
        "    averages = temp.groupby(by=trn_series.name)[target.name].agg([\"mean\", \"count\"])\n",
        "    # Compute smoothing\n",
        "    smoothing = 1 / (1 + np.exp(-(averages[\"count\"] - min_samples_leaf) / smoothing))\n",
        "    # Apply average function to all target data\n",
        "    prior = target.mean()\n",
        "    # The bigger the count the less full_avg is taken into account\n",
        "    averages[target.name] = prior * (1 - smoothing) + averages[\"mean\"] * smoothing\n",
        "    averages.drop([\"mean\", \"count\"], axis=1, inplace=True)\n",
        "    # Apply averages to trn and tst series\n",
        "    ft_trn_series = pd.merge(\n",
        "        trn_series.to_frame(trn_series.name),\n",
        "        averages.reset_index().rename(columns={'index': target.name, target.name: 'average'}),\n",
        "        on=trn_series.name,\n",
        "        how='left')['average'].rename(trn_series.name + '_mean').fillna(prior)\n",
        "    # pd.merge does not keep the index so restore it\n",
        "    ft_trn_series.index = trn_series.index \n",
        "    \n",
        "    return add_noise(ft_trn_series, noise_level)"
      ],
      "execution_count": 24,
      "outputs": []
    },
    {
      "cell_type": "code",
      "metadata": {
        "id": "_K4uRjvCI2am"
      },
      "source": [
        "train_encoded= target_encode(train[\"ps_car_11_cat\"], \n",
        "                             target=train.target, \n",
        "                             min_samples_leaf=100,\n",
        "                             smoothing=10,\n",
        "                             noise_level=0.01)\n",
        "    \n",
        "train['ps_car_11_cat_te'] = train_encoded\n",
        "train.drop('ps_car_11_cat', axis=1, inplace=True)\n",
        "meta.loc['ps_car_11_cat','keep'] = False  # Updating the meta"
      ],
      "execution_count": 25,
      "outputs": []
    },
    {
      "cell_type": "markdown",
      "metadata": {
        "id": "mlH9Ex3cGZBZ"
      },
      "source": [
        "# **Exploratory Data Visualization**\n",
        "**Categorical variables**\n",
        "Let's look into the categorical variables and the proportion of customers with target = 1"
      ]
    },
    {
      "cell_type": "code",
      "metadata": {
        "id": "d-ouhyTPGUbH",
        "outputId": "0c8f810f-03ce-4e37-e70c-e0b4aadd6a69",
        "colab": {
          "base_uri": "https://localhost:8080/",
          "height": 1000
        }
      },
      "source": [
        "v = meta[(meta.level == 'nominal') & (meta.keep)].index\n",
        "\n",
        "for f in v:\n",
        "    plt.figure()\n",
        "    fig, ax = plt.subplots(figsize=(20,10))\n",
        "    # Calculate the percentage of target=1 per category value\n",
        "    cat_perc = train[[f, 'target']].groupby([f],as_index=False).mean()\n",
        "    cat_perc.sort_values(by='target', ascending=False, inplace=True)\n",
        "    # Bar plot\n",
        "    # Order the bars descending on target mean\n",
        "    sns.barplot(ax=ax, x=f, y='target', data=cat_perc, order=cat_perc[f])\n",
        "    plt.ylabel('% target', fontsize=18)\n",
        "    plt.xlabel(f, fontsize=18)\n",
        "    plt.tick_params(axis='both', which='major', labelsize=18)\n",
        "    plt.show();"
      ],
      "execution_count": 26,
      "outputs": [
        {
          "output_type": "display_data",
          "data": {
            "text/plain": [
              "<Figure size 432x288 with 0 Axes>"
            ]
          },
          "metadata": {
            "tags": []
          }
        },
        {
          "output_type": "display_data",
          "data": {
            "image/png": "[encoded data removed]",
            "text/plain": [
              "<Figure size 1440x720 with 1 Axes>"
            ]
          },
          "metadata": {
            "tags": [],
            "needs_background": "light"
          }
        },
        {
          "output_type": "display_data",
          "data": {
            "text/plain": [
              "<Figure size 432x288 with 0 Axes>"
            ]
          },
          "metadata": {
            "tags": []
          }
        },
        {
          "output_type": "display_data",
          "data": {
            "image/png": "[encoded data removed]",
            "text/plain": [
              "<Figure size 1440x720 with 1 Axes>"
            ]
          },
          "metadata": {
            "tags": [],
            "needs_background": "light"
          }
        },
        {
          "output_type": "display_data",
          "data": {
            "text/plain": [
              "<Figure size 432x288 with 0 Axes>"
            ]
          },
          "metadata": {
            "tags": []
          }
        },
        {
          "output_type": "display_data",
          "data": {
            "image/png": "[encoded data removed]",
            "text/plain": [
              "<Figure size 1440x720 with 1 Axes>"
            ]
          },
          "metadata": {
            "tags": [],
            "needs_background": "light"
          }
        },
        {
          "output_type": "display_data",
          "data": {
            "text/plain": [
              "<Figure size 432x288 with 0 Axes>"
            ]
          },
          "metadata": {
            "tags": []
          }
        },
        {
          "output_type": "display_data",
          "data": {
            "image/png": "[encoded data removed]",
            "text/plain": [
              "<Figure size 1440x720 with 1 Axes>"
            ]
          },
          "metadata": {
            "tags": [],
            "needs_background": "light"
          }
        },
        {
          "output_type": "display_data",
          "data": {
            "text/plain": [
              "<Figure size 432x288 with 0 Axes>"
            ]
          },
          "metadata": {
            "tags": []
          }
        },
        {
          "output_type": "display_data",
          "data": {
            "image/png": "[encoded data removed]",
            "text/plain": [
              "<Figure size 1440x720 with 1 Axes>"
            ]
          },
          "metadata": {
            "tags": [],
            "needs_background": "light"
          }
        },
        {
          "output_type": "display_data",
          "data": {
            "text/plain": [
              "<Figure size 432x288 with 0 Axes>"
            ]
          },
          "metadata": {
            "tags": []
          }
        },
        {
          "output_type": "display_data",
          "data": {
            "image/png": "[encoded data removed]",
            "text/plain": [
              "<Figure size 1440x720 with 1 Axes>"
            ]
          },
          "metadata": {
            "tags": [],
            "needs_background": "light"
          }
        },
        {
          "output_type": "display_data",
          "data": {
            "text/plain": [
              "<Figure size 432x288 with 0 Axes>"
            ]
          },
          "metadata": {
            "tags": []
          }
        },
        {
          "output_type": "display_data",
          "data": {
            "image/png": "[encoded data removed]",
            "text/plain": [
              "<Figure size 1440x720 with 1 Axes>"
            ]
          },
          "metadata": {
            "tags": [],
            "needs_background": "light"
          }
        },
        {
          "output_type": "display_data",
          "data": {
            "text/plain": [
              "<Figure size 432x288 with 0 Axes>"
            ]
          },
          "metadata": {
            "tags": []
          }
        },
        {
          "output_type": "display_data",
          "data": {
            "image/png": "[encoded data removed]",
            "text/plain": [
              "<Figure size 1440x720 with 1 Axes>"
            ]
          },
          "metadata": {
            "tags": [],
            "needs_background": "light"
          }
        },
        {
          "output_type": "display_data",
          "data": {
            "text/plain": [
              "<Figure size 432x288 with 0 Axes>"
            ]
          },
          "metadata": {
            "tags": []
          }
        },
        {
          "output_type": "display_data",
          "data": {
            "image/png": "[encoded data removed]",
            "text/plain": [
              "<Figure size 1440x720 with 1 Axes>"
            ]
          },
          "metadata": {
            "tags": [],
            "needs_background": "light"
          }
        },
        {
          "output_type": "display_data",
          "data": {
            "text/plain": [
              "<Figure size 432x288 with 0 Axes>"
            ]
          },
          "metadata": {
            "tags": []
          }
        },
        {
          "output_type": "display_data",
          "data": {
            "image/png": "[encoded data removed]",
            "text/plain": [
              "<Figure size 1440x720 with 1 Axes>"
            ]
          },
          "metadata": {
            "tags": [],
            "needs_background": "light"
          }
        },
        {
          "output_type": "display_data",
          "data": {
            "text/plain": [
              "<Figure size 432x288 with 0 Axes>"
            ]
          },
          "metadata": {
            "tags": []
          }
        },
        {
          "output_type": "display_data",
          "data": {
            "image/png": "[encoded data removed]",
            "text/plain": [
              "<Figure size 1440x720 with 1 Axes>"
            ]
          },
          "metadata": {
            "tags": [],
            "needs_background": "light"
          }
        }
      ]
    },
    {
      "cell_type": "markdown",
      "metadata": {
        "id": "JCyhiNPKHMuv"
      },
      "source": [
        "As we can see from the variables with missing values, it is a good idea to keep the missing values as a separate category value, instead of replacing them by the mode for instance. The customers with a missing value appear to have a much higher (in some cases much lower) probability to ask for an insurance claim."
      ]
    },
    {
      "cell_type": "markdown",
      "metadata": {
        "id": "FJL1YvUNHO-C"
      },
      "source": [
        "**Interval variables**\n",
        "Checking the correlations between interval variables. A heatmap is a good way to visualize the correlation between variables."
      ]
    },
    {
      "cell_type": "code",
      "metadata": {
        "id": "CFU7ALnCHLFT",
        "outputId": "eaaffbc5-244c-4e31-a899-4f01f6f5660d",
        "colab": {
          "base_uri": "https://localhost:8080/",
          "height": 547
        }
      },
      "source": [
        "def corr_heatmap(v):\n",
        "    correlations = train[v].corr()\n",
        "\n",
        "    # Create color map ranging between two colors\n",
        "    cmap = sns.diverging_palette(220, 10, as_cmap=True)\n",
        "\n",
        "    fig, ax = plt.subplots(figsize=(10,10))\n",
        "    sns.heatmap(correlations, cmap=cmap, vmax=1.0, center=0, fmt='.2f',\n",
        "                square=True, linewidths=.5, annot=True, cbar_kws={\"shrink\": .75})\n",
        "    plt.show();\n",
        "    \n",
        "v = meta[(meta.level == 'interval') & (meta.keep)].index\n",
        "corr_heatmap(v)"
      ],
      "execution_count": 27,
      "outputs": [
        {
          "output_type": "display_data",
          "data": {
            "image/png": "[encoded data removed]",
            "text/plain": [
              "<Figure size 720x720 with 2 Axes>"
            ]
          },
          "metadata": {
            "tags": [],
            "needs_background": "light"
          }
        }
      ]
    },
    {
      "cell_type": "markdown",
      "metadata": {
        "id": "vNKXeKMfHjJi"
      },
      "source": [
        "There are a strong correlations between the variables:\n",
        "\n",
        "*   **ps_reg_02 and ps_reg_03** (0.7)\n",
        "*   **ps_car_12 and ps_car13** (0.67)\n",
        "*   **ps_car_12 and ps_car14** (0.58)\n",
        "*   **ps_car_13 and ps_car15** (0.67)\n",
        "\n",
        "Seaborn has some handy plots to visualize the (linear) relationship between variables. We could use a pairplot to visualize the relationship between the variables. But because the heatmap already showed the limited number of correlated variables, we'll look at each of the highly correlated variables separately."
      ]
    },
    {
      "cell_type": "code",
      "metadata": {
        "id": "ba5f4F2hIOKn"
      },
      "source": [
        "s = train.sample(frac=0.1)"
      ],
      "execution_count": 28,
      "outputs": []
    },
    {
      "cell_type": "markdown",
      "metadata": {
        "id": "Pl9BGxzAIWnJ"
      },
      "source": [
        "**ps_reg_02 and ps_reg_03**\n",
        "As the regression line shows, there is a linear relationship between these variables. The hue parameter we can see that the regression lines for target=0 and target=1 are the same."
      ]
    },
    {
      "cell_type": "code",
      "metadata": {
        "id": "EG3mniDeIjPB",
        "outputId": "08b7b480-8429-42b1-cf8c-4da31c29565e",
        "colab": {
          "base_uri": "https://localhost:8080/",
          "height": 386
        }
      },
      "source": [
        "sns.lmplot(x='ps_reg_02', y='ps_reg_03', data=s, hue='target', palette='Set1', scatter_kws={'alpha':0.3})\n",
        "plt.show()"
      ],
      "execution_count": 29,
      "outputs": [
        {
          "output_type": "display_data",
          "data": {
            "image/png": "[encoded data removed]",
            "text/plain": [
              "<Figure size 406.6x360 with 1 Axes>"
            ]
          },
          "metadata": {
            "tags": [],
            "needs_background": "light"
          }
        }
      ]
    },
    {
      "cell_type": "markdown",
      "metadata": {
        "id": "ojlEC4jZI141"
      },
      "source": [
        "**ps_car_12 and ps_car_13**"
      ]
    },
    {
      "cell_type": "code",
      "metadata": {
        "id": "FuOeGRFiIu0x",
        "outputId": "284b996b-79e4-4e59-f4f8-94b60a35469f",
        "colab": {
          "base_uri": "https://localhost:8080/",
          "height": 386
        }
      },
      "source": [
        "sns.lmplot(x='ps_car_12', y='ps_car_13', data=s, hue='target', palette='Set1', scatter_kws={'alpha':0.3})\n",
        "plt.show()"
      ],
      "execution_count": 30,
      "outputs": [
        {
          "output_type": "display_data",
          "data": {
            "image/png": "[encoded data removed]",
            "text/plain": [
              "<Figure size 406.6x360 with 1 Axes>"
            ]
          },
          "metadata": {
            "tags": [],
            "needs_background": "light"
          }
        }
      ]
    },
    {
      "cell_type": "markdown",
      "metadata": {
        "id": "e0Jt3ibbI73t"
      },
      "source": [
        "**ps_car_12 and ps_car_14**"
      ]
    },
    {
      "cell_type": "code",
      "metadata": {
        "id": "TnrFF65KI7F3",
        "outputId": "d1a4f90b-40eb-45bd-effb-7fa55802fe13",
        "colab": {
          "base_uri": "https://localhost:8080/",
          "height": 386
        }
      },
      "source": [
        "sns.lmplot(x='ps_car_12', y='ps_car_14', data=s, hue='target', palette='Set1', scatter_kws={'alpha':0.3})\n",
        "plt.show()"
      ],
      "execution_count": 31,
      "outputs": [
        {
          "output_type": "display_data",
          "data": {
            "image/png": "[encoded data removed]",
            "text/plain": [
              "<Figure size 406.6x360 with 1 Axes>"
            ]
          },
          "metadata": {
            "tags": [],
            "needs_background": "light"
          }
        }
      ]
    },
    {
      "cell_type": "markdown",
      "metadata": {
        "id": "mTuE-eN9JIkg"
      },
      "source": [
        "**ps_car_13 and ps_car_15**"
      ]
    },
    {
      "cell_type": "code",
      "metadata": {
        "id": "HJYqJuoYJHm7",
        "outputId": "4da2def3-2994-4c74-8219-df70f48d6176",
        "colab": {
          "base_uri": "https://localhost:8080/",
          "height": 386
        }
      },
      "source": [
        "sns.lmplot(x='ps_car_15', y='ps_car_13', data=s, hue='target', palette='Set1', scatter_kws={'alpha':0.3})\n",
        "plt.show()"
      ],
      "execution_count": 32,
      "outputs": [
        {
          "output_type": "display_data",
          "data": {
            "image/png": "[encoded data removed]",
            "text/plain": [
              "<Figure size 406.6x360 with 1 Axes>"
            ]
          },
          "metadata": {
            "tags": [],
            "needs_background": "light"
          }
        }
      ]
    },
    {
      "cell_type": "markdown",
      "metadata": {
        "id": "J1kS-b65Jkul"
      },
      "source": [
        "We could perform Principal Component Analysis (PCA) on the variables to reduce the dimensions. "
      ]
    },
    {
      "cell_type": "markdown",
      "metadata": {
        "id": "2JDKj8gyJ8vI"
      },
      "source": [
        "**Checking the correlations between ordinal variables**"
      ]
    },
    {
      "cell_type": "code",
      "metadata": {
        "id": "JSSq5XYvJ_wa",
        "outputId": "4742937e-70fd-4430-dfe0-fef660101334",
        "colab": {
          "base_uri": "https://localhost:8080/",
          "height": 547
        }
      },
      "source": [
        "v = meta[(meta.level == 'ordinal') & (meta.keep)].index\n",
        "corr_heatmap(v)"
      ],
      "execution_count": 33,
      "outputs": [
        {
          "output_type": "display_data",
          "data": {
            "image/png": "[encoded data removed]",
            "text/plain": [
              "<Figure size 720x720 with 2 Axes>"
            ]
          },
          "metadata": {
            "tags": [],
            "needs_background": "light"
          }
        }
      ]
    },
    {
      "cell_type": "markdown",
      "metadata": {
        "id": "vyhwyUHDKKGO"
      },
      "source": [
        "For the ordinal variables we do not see many correlations. We could, on the other hand, look at how the distributions are when grouping by the target value."
      ]
    },
    {
      "cell_type": "markdown",
      "metadata": {
        "id": "07nCQbtXKQJu"
      },
      "source": [
        "# **Feature engineering**\n",
        "\n",
        "**Creating dummy variables**\n",
        "\n",
        "The values of the categorical variables do not represent any order or magnitude. For instance, category 2 is not twice the value of category 1. Therefore we can create dummy variables to deal with that. We drop the first dummy variable as this information can be derived from the other dummy variables generated for the categories of the original variable."
      ]
    },
    {
      "cell_type": "code",
      "metadata": {
        "id": "tGgdkWYJKMfT",
        "outputId": "c41af289-4c37-4127-cd2c-17729d00ee3c",
        "colab": {
          "base_uri": "https://localhost:8080/",
          "height": 51
        }
      },
      "source": [
        "v = meta[(meta.level == 'nominal') & (meta.keep)].index\n",
        "print('Before dummification we have {} variables in train'.format(train.shape[1]))\n",
        "train = pd.get_dummies(train, columns=v, drop_first=True)\n",
        "print('After dummification we have {} variables in train'.format(train.shape[1]))"
      ],
      "execution_count": 34,
      "outputs": [
        {
          "output_type": "stream",
          "text": [
            "Before dummification we have 57 variables in train\n",
            "After dummification we have 108 variables in train\n"
          ],
          "name": "stdout"
        }
      ]
    },
    {
      "cell_type": "markdown",
      "metadata": {
        "id": "6EiSXc3ZKkbV"
      },
      "source": [
        "So, creating dummy variables adds 51 variables to the training set"
      ]
    },
    {
      "cell_type": "markdown",
      "metadata": {
        "id": "dnODAx4jKoqk"
      },
      "source": [
        "**Creating interaction variables**"
      ]
    },
    {
      "cell_type": "code",
      "metadata": {
        "id": "vxc_0D6XKlwd",
        "outputId": "77a52c60-ec11-4115-a23b-6f05b46b8a17",
        "colab": {
          "base_uri": "https://localhost:8080/",
          "height": 51
        }
      },
      "source": [
        "v = meta[(meta.level == 'interval') & (meta.keep)].index\n",
        "poly = PolynomialFeatures(degree=2, interaction_only=False, include_bias=False)\n",
        "interactions = pd.DataFrame(data=poly.fit_transform(train[v]), columns=poly.get_feature_names(v))\n",
        "interactions.drop(v, axis=1, inplace=True)  # Remove the original columns\n",
        "# Concat the interaction variables to the train data\n",
        "print('Before creating interactions we have {} variables in train'.format(train.shape[1]))\n",
        "train = pd.concat([train, interactions], axis=1)\n",
        "print('After creating interactions we have {} variables in train'.format(train.shape[1]))"
      ],
      "execution_count": 35,
      "outputs": [
        {
          "output_type": "stream",
          "text": [
            "Before creating interactions we have 108 variables in train\n",
            "After creating interactions we have 163 variables in train\n"
          ],
          "name": "stdout"
        }
      ]
    },
    {
      "cell_type": "markdown",
      "metadata": {
        "id": "5Mnvd-L7K1yj"
      },
      "source": [
        "# **Feature selection**\n",
        "\n",
        "**Removing features with low or zero variance**\n",
        "\n",
        "Personally, I prefer to let the classifier algorithm chose which features to keep. But there is one thing that we can do ourselves. That is removing features with no or a very low variance. Sklearn has a handy method to do that: VarianceThreshold. By default it removes features with zero variance. This will not be applicable for this competition as we saw there are no zero-variance variables in the previous steps. But if we would remove features with less than 1% variance, we would remove 31 variables."
      ]
    },
    {
      "cell_type": "code",
      "metadata": {
        "id": "iwKqOTfmK-U7",
        "outputId": "414a5b10-008b-4b6b-ad87-d8bccff04d7c",
        "colab": {
          "base_uri": "https://localhost:8080/",
          "height": 71
        }
      },
      "source": [
        "selector = VarianceThreshold(threshold=.01)\n",
        "selector.fit(train.drop(['id', 'target'], axis=1)) # Fit to train without id and target variables\n",
        "\n",
        "f = np.vectorize(lambda x : not x) # Function to toggle boolean array elements\n",
        "\n",
        "v = train.drop(['id', 'target'], axis=1).columns[f(selector.get_support())]\n",
        "print('{} variables have too low variance.'.format(len(v)))\n",
        "print('These variables are {}'.format(list(v)))"
      ],
      "execution_count": 36,
      "outputs": [
        {
          "output_type": "stream",
          "text": [
            "28 variables have too low variance.\n",
            "These variables are ['ps_ind_10_bin', 'ps_ind_11_bin', 'ps_ind_12_bin', 'ps_ind_13_bin', 'ps_car_12', 'ps_car_14', 'ps_car_11_cat_te', 'ps_ind_05_cat_2', 'ps_ind_05_cat_5', 'ps_car_01_cat_1', 'ps_car_01_cat_2', 'ps_car_04_cat_3', 'ps_car_04_cat_4', 'ps_car_04_cat_5', 'ps_car_04_cat_6', 'ps_car_04_cat_7', 'ps_car_06_cat_2', 'ps_car_06_cat_5', 'ps_car_06_cat_8', 'ps_car_06_cat_12', 'ps_car_06_cat_16', 'ps_car_06_cat_17', 'ps_car_09_cat_4', 'ps_car_10_cat_1', 'ps_car_10_cat_2', 'ps_car_12^2', 'ps_car_12 ps_car_14', 'ps_car_14^2']\n"
          ],
          "name": "stdout"
        }
      ]
    },
    {
      "cell_type": "markdown",
      "metadata": {
        "id": "gWZwTN8pLGKB"
      },
      "source": [
        "We would lose rather many variables if we would select based on variance. But because we do not have so many variables, we'll let the classifier chose. For data sets with many more variables this could reduce the processing time.\n",
        "\n",
        "Sklearn also comes with other feature selection methods. One of these methods is SelectFromModel in which you let another classifier select the best features and continue with these. Below I'll show you how to do that with a Random Forest."
      ]
    },
    {
      "cell_type": "markdown",
      "metadata": {
        "id": "s2Mx-00VLRoM"
      },
      "source": [
        "**Selecting features with a Random Forest and SelectFromModel**\n",
        "\n",
        "Here we'll base feature selection on the feature importances of a random forest. With Sklearn's SelectFromModel you can then specify how many variables you want to keep. You can set a threshold on the level of feature importance manually. But we'll simply select the top 50% best variables."
      ]
    },
    {
      "cell_type": "code",
      "metadata": {
        "id": "Mw1lOVcALZU5",
        "outputId": "94612b8b-2bf9-4384-e778-230c7003c928",
        "colab": {
          "base_uri": "https://localhost:8080/",
          "height": 1000
        }
      },
      "source": [
        "X_train = train.drop(['id', 'target'], axis=1)\n",
        "y_train = train['target']\n",
        "\n",
        "feat_labels = X_train.columns\n",
        "\n",
        "rf = RandomForestClassifier(n_estimators=1000, random_state=0, n_jobs=-1)\n",
        "\n",
        "rf.fit(X_train, y_train)\n",
        "importances = rf.feature_importances_\n",
        "\n",
        "indices = np.argsort(rf.feature_importances_)[::-1]\n",
        "\n",
        "for f in range(X_train.shape[1]):\n",
        "    print(\"%2d) %-*s %f\" % (f + 1, 30,feat_labels[indices[f]], importances[indices[f]]))"
      ],
      "execution_count": 37,
      "outputs": [
        {
          "output_type": "stream",
          "text": [
            " 1) ps_car_11_cat_te               0.021141\n",
            " 2) ps_car_12 ps_car_13            0.017318\n",
            " 3) ps_car_13                      0.017274\n",
            " 4) ps_car_13^2                    0.017245\n",
            " 5) ps_car_13 ps_car_14            0.017198\n",
            " 6) ps_reg_03 ps_car_13            0.017116\n",
            " 7) ps_reg_01 ps_car_13            0.016804\n",
            " 8) ps_car_13 ps_car_15            0.016803\n",
            " 9) ps_reg_03 ps_car_14            0.016346\n",
            "10) ps_reg_03 ps_car_12            0.015693\n",
            "11) ps_reg_03 ps_car_15            0.015179\n",
            "12) ps_car_14 ps_car_15            0.015070\n",
            "13) ps_car_13 ps_calc_03           0.014756\n",
            "14) ps_car_13 ps_calc_01           0.014702\n",
            "15) ps_reg_02 ps_car_13            0.014655\n",
            "16) ps_car_13 ps_calc_02           0.014642\n",
            "17) ps_reg_01 ps_reg_03            0.014637\n",
            "18) ps_reg_01 ps_car_14            0.014355\n",
            "19) ps_reg_03                      0.014261\n",
            "20) ps_reg_03^2                    0.014257\n",
            "21) ps_reg_03 ps_calc_03           0.013817\n",
            "22) ps_reg_03 ps_calc_02           0.013803\n",
            "23) ps_reg_03 ps_calc_01           0.013726\n",
            "24) ps_car_14 ps_calc_02           0.013661\n",
            "25) ps_calc_10                     0.013624\n",
            "26) ps_car_14 ps_calc_03           0.013594\n",
            "27) ps_car_14 ps_calc_01           0.013506\n",
            "28) ps_calc_14                     0.013429\n",
            "29) ps_ind_03                      0.013027\n",
            "30) ps_car_12 ps_car_14            0.013018\n",
            "31) ps_car_14^2                    0.012830\n",
            "32) ps_car_14                      0.012744\n",
            "33) ps_reg_02 ps_car_14            0.012743\n",
            "34) ps_calc_11                     0.012620\n",
            "35) ps_reg_02 ps_reg_03            0.012554\n",
            "36) ps_ind_15                      0.012136\n",
            "37) ps_car_15 ps_calc_03           0.010910\n",
            "38) ps_car_12 ps_car_15            0.010903\n",
            "39) ps_car_15 ps_calc_02           0.010855\n",
            "40) ps_car_15 ps_calc_01           0.010839\n",
            "41) ps_calc_13                     0.010507\n",
            "42) ps_car_12 ps_calc_01           0.010432\n",
            "43) ps_car_12 ps_calc_03           0.010381\n",
            "44) ps_car_12 ps_calc_02           0.010294\n",
            "45) ps_reg_02 ps_car_15            0.010270\n",
            "46) ps_reg_01 ps_car_15            0.010232\n",
            "47) ps_calc_02 ps_calc_03          0.010098\n",
            "48) ps_calc_01 ps_calc_02          0.010045\n",
            "49) ps_calc_01 ps_calc_03          0.010043\n",
            "50) ps_calc_07                     0.009862\n",
            "51) ps_calc_08                     0.009843\n",
            "52) ps_reg_01 ps_car_12            0.009460\n",
            "53) ps_reg_02 ps_car_12            0.009282\n",
            "54) ps_reg_02 ps_calc_01           0.009266\n",
            "55) ps_reg_02 ps_calc_02           0.009226\n",
            "56) ps_reg_02 ps_calc_03           0.009196\n",
            "57) ps_calc_06                     0.009068\n",
            "58) ps_reg_01 ps_calc_03           0.009056\n",
            "59) ps_reg_01 ps_calc_02           0.009027\n",
            "60) ps_reg_01 ps_calc_01           0.009015\n",
            "61) ps_calc_09                     0.008824\n",
            "62) ps_ind_01                      0.008579\n",
            "63) ps_calc_05                     0.008356\n",
            "64) ps_calc_04                     0.008146\n",
            "65) ps_calc_12                     0.008052\n",
            "66) ps_reg_01 ps_reg_02            0.008033\n",
            "67) ps_car_15                      0.006166\n",
            "68) ps_car_15^2                    0.006122\n",
            "69) ps_calc_01                     0.006001\n",
            "70) ps_calc_03                     0.005987\n",
            "71) ps_calc_01^2                   0.005981\n",
            "72) ps_calc_02^2                   0.005959\n",
            "73) ps_calc_03^2                   0.005942\n",
            "74) ps_calc_02                     0.005929\n",
            "75) ps_car_12^2                    0.005370\n",
            "76) ps_car_12                      0.005317\n",
            "77) ps_reg_02^2                    0.005012\n",
            "78) ps_reg_02                      0.004952\n",
            "79) ps_reg_01                      0.004181\n",
            "80) ps_reg_01^2                    0.004158\n",
            "81) ps_car_11                      0.003784\n",
            "82) ps_ind_05_cat_0                0.003576\n",
            "83) ps_ind_17_bin                  0.002848\n",
            "84) ps_calc_17_bin                 0.002691\n",
            "85) ps_calc_16_bin                 0.002615\n",
            "86) ps_calc_19_bin                 0.002540\n",
            "87) ps_calc_18_bin                 0.002481\n",
            "88) ps_ind_16_bin                  0.002429\n",
            "89) ps_car_01_cat_11               0.002397\n",
            "90) ps_ind_04_cat_1                0.002392\n",
            "91) ps_ind_04_cat_0                0.002383\n",
            "92) ps_ind_07_bin                  0.002312\n",
            "93) ps_car_09_cat_2                0.002295\n",
            "94) ps_ind_02_cat_1                0.002254\n",
            "95) ps_car_01_cat_7                0.002110\n",
            "96) ps_car_09_cat_0                0.002090\n",
            "97) ps_ind_02_cat_2                0.002074\n",
            "98) ps_calc_20_bin                 0.002068\n",
            "99) ps_ind_06_bin                  0.002063\n",
            "100) ps_car_06_cat_1                0.002002\n",
            "101) ps_calc_15_bin                 0.001987\n",
            "102) ps_car_07_cat_1                0.001956\n",
            "103) ps_ind_08_bin                  0.001933\n",
            "104) ps_car_09_cat_1                0.001830\n",
            "105) ps_car_06_cat_11               0.001793\n",
            "106) ps_ind_18_bin                  0.001709\n",
            "107) ps_ind_09_bin                  0.001701\n",
            "108) ps_car_01_cat_10               0.001612\n",
            "109) ps_car_01_cat_9                0.001583\n",
            "110) ps_car_01_cat_6                0.001560\n",
            "111) ps_car_06_cat_14               0.001545\n",
            "112) ps_car_01_cat_4                0.001531\n",
            "113) ps_ind_05_cat_6                0.001485\n",
            "114) ps_car_02_cat_1                0.001459\n",
            "115) ps_ind_02_cat_3                0.001426\n",
            "116) ps_car_07_cat_0                0.001374\n",
            "117) ps_car_08_cat_1                0.001359\n",
            "118) ps_car_01_cat_8                0.001354\n",
            "119) ps_car_06_cat_4                0.001224\n",
            "120) ps_ind_05_cat_4                0.001220\n",
            "121) ps_ind_02_cat_4                0.001170\n",
            "122) ps_car_01_cat_5                0.001155\n",
            "123) ps_car_06_cat_6                0.001125\n",
            "124) ps_car_06_cat_10               0.001077\n",
            "125) ps_car_04_cat_1                0.001042\n",
            "126) ps_ind_05_cat_2                0.001032\n",
            "127) ps_car_06_cat_7                0.000993\n",
            "128) ps_car_04_cat_2                0.000970\n",
            "129) ps_car_01_cat_3                0.000904\n",
            "130) ps_car_09_cat_3                0.000886\n",
            "131) ps_car_01_cat_0                0.000873\n",
            "132) ps_car_06_cat_15               0.000851\n",
            "133) ps_ind_14                      0.000848\n",
            "134) ps_car_06_cat_9                0.000800\n",
            "135) ps_ind_05_cat_1                0.000753\n",
            "136) ps_car_10_cat_1                0.000708\n",
            "137) ps_car_06_cat_3                0.000706\n",
            "138) ps_ind_12_bin                  0.000692\n",
            "139) ps_ind_05_cat_3                0.000663\n",
            "140) ps_car_09_cat_4                0.000623\n",
            "141) ps_car_01_cat_2                0.000553\n",
            "142) ps_car_04_cat_8                0.000549\n",
            "143) ps_car_06_cat_17               0.000514\n",
            "144) ps_car_06_cat_16               0.000476\n",
            "145) ps_car_04_cat_9                0.000432\n",
            "146) ps_car_06_cat_12               0.000428\n",
            "147) ps_car_06_cat_13               0.000386\n",
            "148) ps_car_01_cat_1                0.000384\n",
            "149) ps_ind_05_cat_5                0.000322\n",
            "150) ps_car_06_cat_5                0.000278\n",
            "151) ps_ind_11_bin                  0.000208\n",
            "152) ps_car_04_cat_6                0.000201\n",
            "153) ps_ind_13_bin                  0.000151\n",
            "154) ps_car_04_cat_3                0.000144\n",
            "155) ps_car_06_cat_2                0.000141\n",
            "156) ps_car_06_cat_8                0.000100\n",
            "157) ps_car_04_cat_5                0.000094\n",
            "158) ps_car_04_cat_7                0.000081\n",
            "159) ps_ind_10_bin                  0.000073\n",
            "160) ps_car_10_cat_2                0.000068\n",
            "161) ps_car_04_cat_4                0.000042\n"
          ],
          "name": "stdout"
        }
      ]
    },
    {
      "cell_type": "markdown",
      "metadata": {
        "id": "Qlyf35KHLhuq"
      },
      "source": [
        "With SelectFromModel we can specify which prefit classifier to use and what the threshold is for the feature importances. With the get_support method we can then limit the number of variables in the train data."
      ]
    },
    {
      "cell_type": "code",
      "metadata": {
        "id": "48szHCxKLm0w",
        "outputId": "19f90470-5bb9-462d-9248-9e78df1d8d8e",
        "colab": {
          "base_uri": "https://localhost:8080/",
          "height": 51
        }
      },
      "source": [
        "sfm = SelectFromModel(rf, threshold='median', prefit=True)\n",
        "print('Number of features before selection: {}'.format(X_train.shape[1]))\n",
        "n_features = sfm.transform(X_train).shape[1]\n",
        "print('Number of features after selection: {}'.format(n_features))\n",
        "selected_vars = list(feat_labels[sfm.get_support()])"
      ],
      "execution_count": 38,
      "outputs": [
        {
          "output_type": "stream",
          "text": [
            "Number of features before selection: 161\n",
            "Number of features after selection: 81\n"
          ],
          "name": "stdout"
        }
      ]
    },
    {
      "cell_type": "code",
      "metadata": {
        "id": "Q9IoylLLLsPX"
      },
      "source": [
        "train = train[selected_vars + ['target']]"
      ],
      "execution_count": 39,
      "outputs": []
    },
    {
      "cell_type": "code",
      "metadata": {
        "id": "UdaVC-e0bMD8",
        "outputId": "e8409053-cf1c-4adc-ec1a-c06ca4413a57",
        "colab": {
          "base_uri": "https://localhost:8080/",
          "height": 270
        }
      },
      "source": [
        "train.head()"
      ],
      "execution_count": 40,
      "outputs": [
        {
          "output_type": "execute_result",
          "data": {
            "text/html": [
              "<div>\n",
              "<style scoped>\n",
              "    .dataframe tbody tr th:only-of-type {\n",
              "        vertical-align: middle;\n",
              "    }\n",
              "\n",
              "    .dataframe tbody tr th {\n",
              "        vertical-align: top;\n",
              "    }\n",
              "\n",
              "    .dataframe thead th {\n",
              "        text-align: right;\n",
              "    }\n",
              "</style>\n",
              "<table border=\"1\" class=\"dataframe\">\n",
              "  <thead>\n",
              "    <tr style=\"text-align: right;\">\n",
              "      <th></th>\n",
              "      <th>ps_ind_01</th>\n",
              "      <th>ps_ind_03</th>\n",
              "      <th>ps_ind_15</th>\n",
              "      <th>ps_reg_01</th>\n",
              "      <th>ps_reg_02</th>\n",
              "      <th>ps_reg_03</th>\n",
              "      <th>ps_car_11</th>\n",
              "      <th>ps_car_12</th>\n",
              "      <th>ps_car_13</th>\n",
              "      <th>ps_car_14</th>\n",
              "      <th>ps_car_15</th>\n",
              "      <th>ps_calc_01</th>\n",
              "      <th>ps_calc_02</th>\n",
              "      <th>ps_calc_03</th>\n",
              "      <th>ps_calc_04</th>\n",
              "      <th>ps_calc_05</th>\n",
              "      <th>ps_calc_06</th>\n",
              "      <th>ps_calc_07</th>\n",
              "      <th>ps_calc_08</th>\n",
              "      <th>ps_calc_09</th>\n",
              "      <th>ps_calc_10</th>\n",
              "      <th>ps_calc_11</th>\n",
              "      <th>ps_calc_12</th>\n",
              "      <th>ps_calc_13</th>\n",
              "      <th>ps_calc_14</th>\n",
              "      <th>ps_car_11_cat_te</th>\n",
              "      <th>ps_reg_01^2</th>\n",
              "      <th>ps_reg_01 ps_reg_02</th>\n",
              "      <th>ps_reg_01 ps_reg_03</th>\n",
              "      <th>ps_reg_01 ps_car_12</th>\n",
              "      <th>ps_reg_01 ps_car_13</th>\n",
              "      <th>ps_reg_01 ps_car_14</th>\n",
              "      <th>ps_reg_01 ps_car_15</th>\n",
              "      <th>ps_reg_01 ps_calc_01</th>\n",
              "      <th>ps_reg_01 ps_calc_02</th>\n",
              "      <th>ps_reg_01 ps_calc_03</th>\n",
              "      <th>ps_reg_02^2</th>\n",
              "      <th>ps_reg_02 ps_reg_03</th>\n",
              "      <th>ps_reg_02 ps_car_12</th>\n",
              "      <th>ps_reg_02 ps_car_13</th>\n",
              "      <th>...</th>\n",
              "      <th>ps_reg_02 ps_calc_01</th>\n",
              "      <th>ps_reg_02 ps_calc_02</th>\n",
              "      <th>ps_reg_02 ps_calc_03</th>\n",
              "      <th>ps_reg_03^2</th>\n",
              "      <th>ps_reg_03 ps_car_12</th>\n",
              "      <th>ps_reg_03 ps_car_13</th>\n",
              "      <th>ps_reg_03 ps_car_14</th>\n",
              "      <th>ps_reg_03 ps_car_15</th>\n",
              "      <th>ps_reg_03 ps_calc_01</th>\n",
              "      <th>ps_reg_03 ps_calc_02</th>\n",
              "      <th>ps_reg_03 ps_calc_03</th>\n",
              "      <th>ps_car_12^2</th>\n",
              "      <th>ps_car_12 ps_car_13</th>\n",
              "      <th>ps_car_12 ps_car_14</th>\n",
              "      <th>ps_car_12 ps_car_15</th>\n",
              "      <th>ps_car_12 ps_calc_01</th>\n",
              "      <th>ps_car_12 ps_calc_02</th>\n",
              "      <th>ps_car_12 ps_calc_03</th>\n",
              "      <th>ps_car_13^2</th>\n",
              "      <th>ps_car_13 ps_car_14</th>\n",
              "      <th>ps_car_13 ps_car_15</th>\n",
              "      <th>ps_car_13 ps_calc_01</th>\n",
              "      <th>ps_car_13 ps_calc_02</th>\n",
              "      <th>ps_car_13 ps_calc_03</th>\n",
              "      <th>ps_car_14^2</th>\n",
              "      <th>ps_car_14 ps_car_15</th>\n",
              "      <th>ps_car_14 ps_calc_01</th>\n",
              "      <th>ps_car_14 ps_calc_02</th>\n",
              "      <th>ps_car_14 ps_calc_03</th>\n",
              "      <th>ps_car_15^2</th>\n",
              "      <th>ps_car_15 ps_calc_01</th>\n",
              "      <th>ps_car_15 ps_calc_02</th>\n",
              "      <th>ps_car_15 ps_calc_03</th>\n",
              "      <th>ps_calc_01^2</th>\n",
              "      <th>ps_calc_01 ps_calc_02</th>\n",
              "      <th>ps_calc_01 ps_calc_03</th>\n",
              "      <th>ps_calc_02^2</th>\n",
              "      <th>ps_calc_02 ps_calc_03</th>\n",
              "      <th>ps_calc_03^2</th>\n",
              "      <th>target</th>\n",
              "    </tr>\n",
              "  </thead>\n",
              "  <tbody>\n",
              "    <tr>\n",
              "      <th>0</th>\n",
              "      <td>1</td>\n",
              "      <td>1</td>\n",
              "      <td>11</td>\n",
              "      <td>0.6</td>\n",
              "      <td>0.6</td>\n",
              "      <td>0.838153</td>\n",
              "      <td>1</td>\n",
              "      <td>0.368782</td>\n",
              "      <td>0.540603</td>\n",
              "      <td>0.345688</td>\n",
              "      <td>2.000000</td>\n",
              "      <td>0.9</td>\n",
              "      <td>0.3</td>\n",
              "      <td>0.0</td>\n",
              "      <td>3</td>\n",
              "      <td>0</td>\n",
              "      <td>7</td>\n",
              "      <td>3</td>\n",
              "      <td>8</td>\n",
              "      <td>4</td>\n",
              "      <td>8</td>\n",
              "      <td>1</td>\n",
              "      <td>0</td>\n",
              "      <td>4</td>\n",
              "      <td>6</td>\n",
              "      <td>0.094911</td>\n",
              "      <td>0.36</td>\n",
              "      <td>0.36</td>\n",
              "      <td>0.502892</td>\n",
              "      <td>0.221269</td>\n",
              "      <td>0.324362</td>\n",
              "      <td>0.207413</td>\n",
              "      <td>1.200000</td>\n",
              "      <td>0.54</td>\n",
              "      <td>0.18</td>\n",
              "      <td>0.00</td>\n",
              "      <td>0.36</td>\n",
              "      <td>0.502892</td>\n",
              "      <td>0.221269</td>\n",
              "      <td>0.324362</td>\n",
              "      <td>...</td>\n",
              "      <td>0.54</td>\n",
              "      <td>0.18</td>\n",
              "      <td>0.00</td>\n",
              "      <td>0.702500</td>\n",
              "      <td>0.309095</td>\n",
              "      <td>0.453108</td>\n",
              "      <td>0.289739</td>\n",
              "      <td>1.676305</td>\n",
              "      <td>0.754337</td>\n",
              "      <td>0.251446</td>\n",
              "      <td>0.000000</td>\n",
              "      <td>0.136</td>\n",
              "      <td>0.199365</td>\n",
              "      <td>0.127483</td>\n",
              "      <td>0.737564</td>\n",
              "      <td>0.331904</td>\n",
              "      <td>0.110635</td>\n",
              "      <td>0.000000</td>\n",
              "      <td>0.292252</td>\n",
              "      <td>0.186880</td>\n",
              "      <td>1.081207</td>\n",
              "      <td>0.486543</td>\n",
              "      <td>0.162181</td>\n",
              "      <td>0.000000</td>\n",
              "      <td>0.1195</td>\n",
              "      <td>0.691375</td>\n",
              "      <td>0.311119</td>\n",
              "      <td>0.103706</td>\n",
              "      <td>0.000000</td>\n",
              "      <td>4.0</td>\n",
              "      <td>1.800000</td>\n",
              "      <td>0.600000</td>\n",
              "      <td>0.000000</td>\n",
              "      <td>0.81</td>\n",
              "      <td>0.27</td>\n",
              "      <td>0.00</td>\n",
              "      <td>0.09</td>\n",
              "      <td>0.00</td>\n",
              "      <td>0.00</td>\n",
              "      <td>0</td>\n",
              "    </tr>\n",
              "    <tr>\n",
              "      <th>1</th>\n",
              "      <td>5</td>\n",
              "      <td>7</td>\n",
              "      <td>5</td>\n",
              "      <td>0.9</td>\n",
              "      <td>0.6</td>\n",
              "      <td>0.728440</td>\n",
              "      <td>1</td>\n",
              "      <td>0.424264</td>\n",
              "      <td>0.382953</td>\n",
              "      <td>0.378814</td>\n",
              "      <td>0.000000</td>\n",
              "      <td>0.2</td>\n",
              "      <td>0.0</td>\n",
              "      <td>0.6</td>\n",
              "      <td>1</td>\n",
              "      <td>1</td>\n",
              "      <td>7</td>\n",
              "      <td>5</td>\n",
              "      <td>10</td>\n",
              "      <td>4</td>\n",
              "      <td>11</td>\n",
              "      <td>3</td>\n",
              "      <td>0</td>\n",
              "      <td>3</td>\n",
              "      <td>7</td>\n",
              "      <td>0.121546</td>\n",
              "      <td>0.81</td>\n",
              "      <td>0.54</td>\n",
              "      <td>0.655596</td>\n",
              "      <td>0.381838</td>\n",
              "      <td>0.344658</td>\n",
              "      <td>0.340933</td>\n",
              "      <td>0.000000</td>\n",
              "      <td>0.18</td>\n",
              "      <td>0.00</td>\n",
              "      <td>0.54</td>\n",
              "      <td>0.36</td>\n",
              "      <td>0.437064</td>\n",
              "      <td>0.254558</td>\n",
              "      <td>0.229772</td>\n",
              "      <td>...</td>\n",
              "      <td>0.12</td>\n",
              "      <td>0.00</td>\n",
              "      <td>0.36</td>\n",
              "      <td>0.530625</td>\n",
              "      <td>0.309051</td>\n",
              "      <td>0.278958</td>\n",
              "      <td>0.275943</td>\n",
              "      <td>0.000000</td>\n",
              "      <td>0.145688</td>\n",
              "      <td>0.000000</td>\n",
              "      <td>0.437064</td>\n",
              "      <td>0.180</td>\n",
              "      <td>0.162473</td>\n",
              "      <td>0.160717</td>\n",
              "      <td>0.000000</td>\n",
              "      <td>0.084853</td>\n",
              "      <td>0.000000</td>\n",
              "      <td>0.254558</td>\n",
              "      <td>0.146653</td>\n",
              "      <td>0.145068</td>\n",
              "      <td>0.000000</td>\n",
              "      <td>0.076591</td>\n",
              "      <td>0.000000</td>\n",
              "      <td>0.229772</td>\n",
              "      <td>0.1435</td>\n",
              "      <td>0.000000</td>\n",
              "      <td>0.075763</td>\n",
              "      <td>0.000000</td>\n",
              "      <td>0.227288</td>\n",
              "      <td>0.0</td>\n",
              "      <td>0.000000</td>\n",
              "      <td>0.000000</td>\n",
              "      <td>0.000000</td>\n",
              "      <td>0.04</td>\n",
              "      <td>0.00</td>\n",
              "      <td>0.12</td>\n",
              "      <td>0.00</td>\n",
              "      <td>0.00</td>\n",
              "      <td>0.36</td>\n",
              "      <td>0</td>\n",
              "    </tr>\n",
              "    <tr>\n",
              "      <th>2</th>\n",
              "      <td>4</td>\n",
              "      <td>3</td>\n",
              "      <td>4</td>\n",
              "      <td>0.9</td>\n",
              "      <td>0.6</td>\n",
              "      <td>0.869267</td>\n",
              "      <td>3</td>\n",
              "      <td>0.400000</td>\n",
              "      <td>0.814271</td>\n",
              "      <td>0.402368</td>\n",
              "      <td>3.316625</td>\n",
              "      <td>0.3</td>\n",
              "      <td>0.9</td>\n",
              "      <td>0.1</td>\n",
              "      <td>4</td>\n",
              "      <td>1</td>\n",
              "      <td>8</td>\n",
              "      <td>5</td>\n",
              "      <td>10</td>\n",
              "      <td>2</td>\n",
              "      <td>8</td>\n",
              "      <td>7</td>\n",
              "      <td>2</td>\n",
              "      <td>3</td>\n",
              "      <td>10</td>\n",
              "      <td>0.095594</td>\n",
              "      <td>0.81</td>\n",
              "      <td>0.54</td>\n",
              "      <td>0.782340</td>\n",
              "      <td>0.360000</td>\n",
              "      <td>0.732844</td>\n",
              "      <td>0.362131</td>\n",
              "      <td>2.984962</td>\n",
              "      <td>0.27</td>\n",
              "      <td>0.81</td>\n",
              "      <td>0.09</td>\n",
              "      <td>0.36</td>\n",
              "      <td>0.521560</td>\n",
              "      <td>0.240000</td>\n",
              "      <td>0.488563</td>\n",
              "      <td>...</td>\n",
              "      <td>0.18</td>\n",
              "      <td>0.54</td>\n",
              "      <td>0.06</td>\n",
              "      <td>0.755625</td>\n",
              "      <td>0.347707</td>\n",
              "      <td>0.707819</td>\n",
              "      <td>0.349765</td>\n",
              "      <td>2.883032</td>\n",
              "      <td>0.260780</td>\n",
              "      <td>0.782340</td>\n",
              "      <td>0.086927</td>\n",
              "      <td>0.160</td>\n",
              "      <td>0.325708</td>\n",
              "      <td>0.160947</td>\n",
              "      <td>1.326650</td>\n",
              "      <td>0.120000</td>\n",
              "      <td>0.360000</td>\n",
              "      <td>0.040000</td>\n",
              "      <td>0.663037</td>\n",
              "      <td>0.327637</td>\n",
              "      <td>2.700631</td>\n",
              "      <td>0.244281</td>\n",
              "      <td>0.732844</td>\n",
              "      <td>0.081427</td>\n",
              "      <td>0.1619</td>\n",
              "      <td>1.334504</td>\n",
              "      <td>0.120710</td>\n",
              "      <td>0.362131</td>\n",
              "      <td>0.040237</td>\n",
              "      <td>11.0</td>\n",
              "      <td>0.994987</td>\n",
              "      <td>2.984962</td>\n",
              "      <td>0.331662</td>\n",
              "      <td>0.09</td>\n",
              "      <td>0.27</td>\n",
              "      <td>0.03</td>\n",
              "      <td>0.81</td>\n",
              "      <td>0.09</td>\n",
              "      <td>0.01</td>\n",
              "      <td>0</td>\n",
              "    </tr>\n",
              "    <tr>\n",
              "      <th>3</th>\n",
              "      <td>6</td>\n",
              "      <td>6</td>\n",
              "      <td>8</td>\n",
              "      <td>0.6</td>\n",
              "      <td>1.5</td>\n",
              "      <td>1.705872</td>\n",
              "      <td>2</td>\n",
              "      <td>0.400000</td>\n",
              "      <td>0.838387</td>\n",
              "      <td>0.378418</td>\n",
              "      <td>3.605551</td>\n",
              "      <td>0.8</td>\n",
              "      <td>0.4</td>\n",
              "      <td>0.1</td>\n",
              "      <td>3</td>\n",
              "      <td>3</td>\n",
              "      <td>7</td>\n",
              "      <td>2</td>\n",
              "      <td>11</td>\n",
              "      <td>3</td>\n",
              "      <td>10</td>\n",
              "      <td>2</td>\n",
              "      <td>2</td>\n",
              "      <td>0</td>\n",
              "      <td>14</td>\n",
              "      <td>0.085596</td>\n",
              "      <td>0.36</td>\n",
              "      <td>0.90</td>\n",
              "      <td>1.023523</td>\n",
              "      <td>0.240000</td>\n",
              "      <td>0.503032</td>\n",
              "      <td>0.227051</td>\n",
              "      <td>2.163331</td>\n",
              "      <td>0.48</td>\n",
              "      <td>0.24</td>\n",
              "      <td>0.06</td>\n",
              "      <td>2.25</td>\n",
              "      <td>2.558808</td>\n",
              "      <td>0.600000</td>\n",
              "      <td>1.257580</td>\n",
              "      <td>...</td>\n",
              "      <td>1.20</td>\n",
              "      <td>0.60</td>\n",
              "      <td>0.15</td>\n",
              "      <td>2.910000</td>\n",
              "      <td>0.682349</td>\n",
              "      <td>1.430181</td>\n",
              "      <td>0.645532</td>\n",
              "      <td>6.150610</td>\n",
              "      <td>1.364698</td>\n",
              "      <td>0.682349</td>\n",
              "      <td>0.170587</td>\n",
              "      <td>0.160</td>\n",
              "      <td>0.335355</td>\n",
              "      <td>0.151367</td>\n",
              "      <td>1.442221</td>\n",
              "      <td>0.320000</td>\n",
              "      <td>0.160000</td>\n",
              "      <td>0.040000</td>\n",
              "      <td>0.702893</td>\n",
              "      <td>0.317260</td>\n",
              "      <td>3.022847</td>\n",
              "      <td>0.670710</td>\n",
              "      <td>0.335355</td>\n",
              "      <td>0.083839</td>\n",
              "      <td>0.1432</td>\n",
              "      <td>1.364405</td>\n",
              "      <td>0.302734</td>\n",
              "      <td>0.151367</td>\n",
              "      <td>0.037842</td>\n",
              "      <td>13.0</td>\n",
              "      <td>2.884441</td>\n",
              "      <td>1.442221</td>\n",
              "      <td>0.360555</td>\n",
              "      <td>0.64</td>\n",
              "      <td>0.32</td>\n",
              "      <td>0.08</td>\n",
              "      <td>0.16</td>\n",
              "      <td>0.04</td>\n",
              "      <td>0.01</td>\n",
              "      <td>0</td>\n",
              "    </tr>\n",
              "    <tr>\n",
              "      <th>4</th>\n",
              "      <td>5</td>\n",
              "      <td>5</td>\n",
              "      <td>10</td>\n",
              "      <td>0.8</td>\n",
              "      <td>0.8</td>\n",
              "      <td>1.086566</td>\n",
              "      <td>3</td>\n",
              "      <td>0.400000</td>\n",
              "      <td>0.905777</td>\n",
              "      <td>0.384838</td>\n",
              "      <td>3.605551</td>\n",
              "      <td>0.6</td>\n",
              "      <td>0.5</td>\n",
              "      <td>0.9</td>\n",
              "      <td>3</td>\n",
              "      <td>3</td>\n",
              "      <td>5</td>\n",
              "      <td>2</td>\n",
              "      <td>9</td>\n",
              "      <td>1</td>\n",
              "      <td>6</td>\n",
              "      <td>5</td>\n",
              "      <td>1</td>\n",
              "      <td>6</td>\n",
              "      <td>8</td>\n",
              "      <td>0.108582</td>\n",
              "      <td>0.64</td>\n",
              "      <td>0.64</td>\n",
              "      <td>0.869253</td>\n",
              "      <td>0.320000</td>\n",
              "      <td>0.724622</td>\n",
              "      <td>0.307870</td>\n",
              "      <td>2.884441</td>\n",
              "      <td>0.48</td>\n",
              "      <td>0.40</td>\n",
              "      <td>0.72</td>\n",
              "      <td>0.64</td>\n",
              "      <td>0.869253</td>\n",
              "      <td>0.320000</td>\n",
              "      <td>0.724622</td>\n",
              "      <td>...</td>\n",
              "      <td>0.48</td>\n",
              "      <td>0.40</td>\n",
              "      <td>0.72</td>\n",
              "      <td>1.180625</td>\n",
              "      <td>0.434626</td>\n",
              "      <td>0.984186</td>\n",
              "      <td>0.418151</td>\n",
              "      <td>3.917668</td>\n",
              "      <td>0.651939</td>\n",
              "      <td>0.543283</td>\n",
              "      <td>0.977909</td>\n",
              "      <td>0.160</td>\n",
              "      <td>0.362311</td>\n",
              "      <td>0.153935</td>\n",
              "      <td>1.442221</td>\n",
              "      <td>0.240000</td>\n",
              "      <td>0.200000</td>\n",
              "      <td>0.360000</td>\n",
              "      <td>0.820432</td>\n",
              "      <td>0.348577</td>\n",
              "      <td>3.265825</td>\n",
              "      <td>0.543466</td>\n",
              "      <td>0.452888</td>\n",
              "      <td>0.815199</td>\n",
              "      <td>0.1481</td>\n",
              "      <td>1.387552</td>\n",
              "      <td>0.230903</td>\n",
              "      <td>0.192419</td>\n",
              "      <td>0.346354</td>\n",
              "      <td>13.0</td>\n",
              "      <td>2.163331</td>\n",
              "      <td>1.802776</td>\n",
              "      <td>3.244996</td>\n",
              "      <td>0.36</td>\n",
              "      <td>0.30</td>\n",
              "      <td>0.54</td>\n",
              "      <td>0.25</td>\n",
              "      <td>0.45</td>\n",
              "      <td>0.81</td>\n",
              "      <td>0</td>\n",
              "    </tr>\n",
              "  </tbody>\n",
              "</table>\n",
              "<p>5 rows × 82 columns</p>\n",
              "</div>"
            ],
            "text/plain": [
              "   ps_ind_01  ps_ind_03  ps_ind_15  ...  ps_calc_02 ps_calc_03  ps_calc_03^2  target\n",
              "0          1          1         11  ...                   0.00          0.00       0\n",
              "1          5          7          5  ...                   0.00          0.36       0\n",
              "2          4          3          4  ...                   0.09          0.01       0\n",
              "3          6          6          8  ...                   0.04          0.01       0\n",
              "4          5          5         10  ...                   0.45          0.81       0\n",
              "\n",
              "[5 rows x 82 columns]"
            ]
          },
          "metadata": {
            "tags": []
          },
          "execution_count": 40
        }
      ]
    },
    {
      "cell_type": "markdown",
      "metadata": {
        "id": "1yqiM5X2Lvbk"
      },
      "source": [
        "# **Feature scaling**\n",
        "\n",
        "As mentioned before, we can apply standard scaling to the training data. Some classifiers perform better when this is done."
      ]
    },
    {
      "cell_type": "code",
      "metadata": {
        "id": "95EI7SHYL4lE",
        "outputId": "1756391c-6508-45f8-8c62-54aabcda7ae4",
        "colab": {
          "base_uri": "https://localhost:8080/",
          "height": 238
        }
      },
      "source": [
        "scaler = StandardScaler()\n",
        "scaler.fit_transform(train.drop(['target'], axis=1))"
      ],
      "execution_count": 41,
      "outputs": [
        {
          "output_type": "execute_result",
          "data": {
            "text/plain": [
              "array([[-0.45941104, -1.26665356,  1.05087653, ..., -0.72553616,\n",
              "        -1.01071913, -1.06173767],\n",
              "       [ 1.55538958,  0.95034274, -0.63847299, ..., -1.06120876,\n",
              "        -1.01071913,  0.27907892],\n",
              "       [ 1.05168943, -0.52765479, -0.92003125, ...,  1.95984463,\n",
              "        -0.56215309, -1.02449277],\n",
              "       ...,\n",
              "       [-0.9631112 ,  0.58084336,  0.48776003, ..., -0.46445747,\n",
              "         0.18545696,  0.27907892],\n",
              "       [-0.9631112 , -0.89715418, -1.48314775, ..., -0.91202093,\n",
              "        -0.41263108,  0.27907892],\n",
              "       [-0.45941104, -1.26665356,  1.61399304, ...,  0.28148164,\n",
              "        -0.11358706, -0.72653353]])"
            ]
          },
          "metadata": {
            "tags": []
          },
          "execution_count": 41
        }
      ]
    },
    {
      "cell_type": "markdown",
      "metadata": {
        "id": "N384oGU0b1ro"
      },
      "source": [
        "Comparison of Logistic Regression with imbalanced dataset and balanced dataset"
      ]
    },
    {
      "cell_type": "code",
      "metadata": {
        "id": "jDS5XMYCdCLo"
      },
      "source": [
        "from sklearn.linear_model import LogisticRegression\n",
        "from sklearn.metrics import accuracy_score\n",
        "from sklearn.model_selection import train_test_split\n",
        "from sklearn.metrics import f1_score\n",
        "from sklearn.metrics import precision_score\n",
        "from sklearn.metrics import recall_score\n",
        "from sklearn.pipeline import Pipeline\n",
        "from sklearn.tree import DecisionTreeClassifier \n",
        "from sklearn.svm import LinearSVC\n",
        "from xgboost import XGBClassifier\n",
        "from sklearn.svm import SVC\n",
        "from sklearn.ensemble import AdaBoostClassifier"
      ],
      "execution_count": 42,
      "outputs": []
    },
    {
      "cell_type": "markdown",
      "metadata": {
        "id": "BanuCJXvMUW7"
      },
      "source": [
        "The Simple Logistic Regression Model seems to have high accuracy. Is that what we need at\n",
        "all? What is the problem with this model?"
      ]
    },
    {
      "cell_type": "code",
      "metadata": {
        "id": "DtxnW4f9Wde7",
        "outputId": "a0ea2766-9bce-4661-c8fb-5440abfabe91",
        "colab": {
          "base_uri": "https://localhost:8080/",
          "height": 51
        }
      },
      "source": [
        "y = train['target']\n",
        "X = train.drop('target', axis=1)\n",
        "\n",
        "X_train, X_test, y_train, y_test = train_test_split(X, y, test_size=0.2, random_state=45)\n",
        "print (\"Train size : \",X_train.shape)\n",
        "print (\"Test size : \",X_test.shape)"
      ],
      "execution_count": 43,
      "outputs": [
        {
          "output_type": "stream",
          "text": [
            "Train size :  (173552, 81)\n",
            "Test size :  (43388, 81)\n"
          ],
          "name": "stdout"
        }
      ]
    },
    {
      "cell_type": "code",
      "metadata": {
        "id": "sQxvD8p2WYhC"
      },
      "source": [
        "def create_Pipeline(classifierName,classifierObject,X_train, X_test, y_train, y_test):\n",
        "  result = {}\n",
        "  pipe = Pipeline([(classifierName, classifierObject)], verbose = True) \n",
        "  # fitting the data in the pipe \n",
        "  pipe.fit(X_train, y_train) \n",
        "  # to see all the hyper parameters \n",
        "  pipe.get_params()\n",
        "  preds=pipe.predict(X_test)\n",
        "  result['classifier']=classifierName\n",
        "  result['accuracy']= accuracy_score(y_test, preds)\n",
        "  result['f1-score']=f1_score(y_test,preds,average='weighted')\n",
        "  result['precision']= precision_score(y_test,preds, average='weighted')\n",
        "  result['recall']= recall_score(y_test,preds, average='weighted')\n",
        "  return result"
      ],
      "execution_count": 45,
      "outputs": []
    },
    {
      "cell_type": "code",
      "metadata": {
        "id": "vvlGctjvYVBr"
      },
      "source": [
        "lg=LogisticRegression(random_state=42)\n",
        "lsvc=LinearSVC(dual=True,max_iter=1000,random_state=42)\n",
        "svc = SVC(gamma='scale', class_weight='balanced')\n",
        "rf = RandomForestClassifier(n_estimators=1000, random_state=42, n_jobs=-1)\n",
        "xgboost = XGBClassifier(max_depth=4, learning_rate=0.01, n_estimators=1000, gamma=1, \n",
        "                        min_child_weight=1, subsample=0.8, colsample_bytree=1.0, reg_alpha=0.005, random_state=42)\n",
        "adaboost= AdaBoostClassifier(n_estimators=1000, random_state=42)\n",
        "dt = DecisionTreeClassifier(class_weight=None, criterion='gini', max_depth=10,\n",
        "            min_impurity_decrease=0.0, min_impurity_split=None,\n",
        "            min_samples_leaf=1, min_samples_split=5,\n",
        "            min_weight_fraction_leaf=0.0, presort=False, random_state=None,\n",
        "            splitter='best')\n",
        "\n",
        "classifiers= {\"LogisticRegression\":lg,\n",
        " \"linearSVC\":lsvc,\n",
        " \"svc\":svc,\n",
        " \"RandomForest\":rf,\n",
        " \"DecisionTree\":dt,\n",
        " \"xgboost\":xgboost,\n",
        " \"adaboost\":adaboost,\n",
        " }\n"
      ],
      "execution_count": 46,
      "outputs": []
    },
    {
      "cell_type": "code",
      "metadata": {
        "id": "iyoes7crkkcy",
        "outputId": "51e9c850-9846-41d0-cbcb-490101d79d2e",
        "colab": {
          "base_uri": "https://localhost:8080/",
          "height": 581
        }
      },
      "source": [
        "final_result = {}\n",
        "for key,value in classifiers.items():\n",
        "  result = create_Pipeline(key,value,X_train, X_test, y_train, y_test)\n",
        "  print(result)\n",
        "  final_result.update(result)"
      ],
      "execution_count": 47,
      "outputs": [
        {
          "output_type": "stream",
          "text": [
            "/usr/local/lib/python3.6/dist-packages/sklearn/linear_model/_logistic.py:940: ConvergenceWarning: lbfgs failed to converge (status=1):\n",
            "STOP: TOTAL NO. of ITERATIONS REACHED LIMIT.\n",
            "\n",
            "Increase the number of iterations (max_iter) or scale the data as shown in:\n",
            "    https://scikit-learn.org/stable/modules/preprocessing.html\n",
            "Please also refer to the documentation for alternative solver options:\n",
            "    https://scikit-learn.org/stable/modules/linear_model.html#logistic-regression\n",
            "  extra_warning_msg=_LOGISTIC_SOLVER_CONVERGENCE_MSG)\n",
            "/usr/local/lib/python3.6/dist-packages/sklearn/metrics/_classification.py:1272: UndefinedMetricWarning: Precision is ill-defined and being set to 0.0 in labels with no predicted samples. Use `zero_division` parameter to control this behavior.\n",
            "  _warn_prf(average, modifier, msg_start, len(result))\n"
          ],
          "name": "stderr"
        },
        {
          "output_type": "stream",
          "text": [
            "[Pipeline]  (step 1 of 1) Processing LogisticRegression, total=   5.7s\n",
            "{'classifier': 'LogisticRegression', 'accuracy': 0.898520328201346, 'f1-score': 0.8504926370274112, 'precision': 0.8073387801910545, 'recall': 0.898520328201346}\n"
          ],
          "name": "stdout"
        },
        {
          "output_type": "stream",
          "text": [
            "/usr/local/lib/python3.6/dist-packages/sklearn/svm/_base.py:947: ConvergenceWarning: Liblinear failed to converge, increase the number of iterations.\n",
            "  \"the number of iterations.\", ConvergenceWarning)\n",
            "/usr/local/lib/python3.6/dist-packages/sklearn/metrics/_classification.py:1272: UndefinedMetricWarning: Precision is ill-defined and being set to 0.0 in labels with no predicted samples. Use `zero_division` parameter to control this behavior.\n",
            "  _warn_prf(average, modifier, msg_start, len(result))\n"
          ],
          "name": "stderr"
        },
        {
          "output_type": "stream",
          "text": [
            "[Pipeline] ......... (step 1 of 1) Processing linearSVC, total= 2.4min\n",
            "{'classifier': 'linearSVC', 'accuracy': 0.898520328201346, 'f1-score': 0.8504926370274112, 'precision': 0.8073387801910545, 'recall': 0.898520328201346}\n",
            "[Pipeline] .............. (step 1 of 1) Processing svc, total=165.1min\n",
            "{'classifier': 'svc', 'accuracy': 0.5776481976583387, 'f1-score': 0.6608635287008815, 'precision': 0.8396723449831794, 'recall': 0.5776481976583387}\n",
            "[Pipeline] ...... (step 1 of 1) Processing RandomForest, total=21.1min\n",
            "{'classifier': 'RandomForest', 'accuracy': 0.8984742325066839, 'f1-score': 0.8504696544724011, 'precision': 0.807334576920506, 'recall': 0.8984742325066839}\n"
          ],
          "name": "stdout"
        },
        {
          "output_type": "stream",
          "text": [
            "/usr/local/lib/python3.6/dist-packages/sklearn/tree/_classes.py:319: FutureWarning: The parameter 'presort' is deprecated and has no effect. It will be removed in v0.24. You can suppress this warning by not passing any value to the 'presort' parameter.\n",
            "  FutureWarning)\n"
          ],
          "name": "stderr"
        },
        {
          "output_type": "stream",
          "text": [
            "[Pipeline] ...... (step 1 of 1) Processing DecisionTree, total=   9.7s\n",
            "{'classifier': 'DecisionTree', 'accuracy': 0.8937033281091546, 'f1-score': 0.8494345364041237, 'precision': 0.8193233633407851, 'recall': 0.8937033281091546}\n",
            "[Pipeline] ........... (step 1 of 1) Processing xgboost, total=13.2min\n"
          ],
          "name": "stdout"
        },
        {
          "output_type": "stream",
          "text": [
            "/usr/local/lib/python3.6/dist-packages/sklearn/metrics/_classification.py:1272: UndefinedMetricWarning: Precision is ill-defined and being set to 0.0 in labels with no predicted samples. Use `zero_division` parameter to control this behavior.\n",
            "  _warn_prf(average, modifier, msg_start, len(result))\n"
          ],
          "name": "stderr"
        },
        {
          "output_type": "stream",
          "text": [
            "{'classifier': 'xgboost', 'accuracy': 0.898520328201346, 'f1-score': 0.8504926370274112, 'precision': 0.8073387801910545, 'recall': 0.898520328201346}\n",
            "[Pipeline] .......... (step 1 of 1) Processing adaboost, total=18.8min\n",
            "{'classifier': 'adaboost', 'accuracy': 0.8979902277127316, 'f1-score': 0.8503175539345771, 'precision': 0.8148404597571318, 'recall': 0.8979902277127316}\n"
          ],
          "name": "stdout"
        }
      ]
    },
    {
      "cell_type": "markdown",
      "metadata": {
        "id": "FSUu9JcRTiWw"
      },
      "source": [
        "We are using MLPClassifier below"
      ]
    },
    {
      "cell_type": "code",
      "metadata": {
        "id": "Sf-qhWiU0Qw-"
      },
      "source": [
        "from sklearn.neural_network import MLPClassifier\n",
        "model=MLPClassifier(hidden_layer_sizes=50, max_iter=150, shuffle=True, random_state=1)\n",
        "model.fit(X_train,y_train)\n",
        "y_pred = model.predict(X_test)"
      ],
      "execution_count": 51,
      "outputs": []
    },
    {
      "cell_type": "code",
      "metadata": {
        "id": "3yk14YRupiTE",
        "outputId": "79b25db0-7eee-435d-809c-b62bef18aba3",
        "colab": {
          "base_uri": "https://localhost:8080/",
          "height": 136
        }
      },
      "source": [
        "from sklearn.metrics import mean_squared_error, confusion_matrix, accuracy_score\n",
        "print(\"confusion_matrix : \", confusion_matrix(y_test,y_pred))\n",
        "print(\"mean squared error : \" , mean_squared_error(y_test,y_pred))\n",
        "print(\"accuracy : \", accuracy_score(y_test,y_pred))\n",
        "print(\"f1-score : \", f1_score(y_test,y_pred,average='weighted'))\n",
        "print(\"Precision :\" , precision_score(y_test,y_pred, average='weighted'))\n",
        "print(\"recall : \", recall_score(y_test, y_pred, average='weighted'))"
      ],
      "execution_count": 57,
      "outputs": [
        {
          "output_type": "stream",
          "text": [
            "confusion_matrix :  [[38973    12]\n",
            " [ 4402     1]]\n",
            "mean squared error :  0.10173319811929565\n",
            "accuracy :  0.8982668018807043\n",
            "f1-score :  0.8504110098017993\n",
            "Precision : 0.8151382957697192\n",
            "recall :  0.8982668018807043\n"
          ],
          "name": "stdout"
        }
      ]
    }
  ]
}